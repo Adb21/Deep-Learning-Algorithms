{
 "cells": [
  {
   "cell_type": "markdown",
   "metadata": {
    "colab_type": "text",
    "id": "rnHexYL4FR2l"
   },
   "source": [
    "<h2> CNN MNSIT Assignment </h2>"
   ]
  },
  {
   "cell_type": "code",
   "execution_count": 1,
   "metadata": {
    "colab": {
     "base_uri": "https://localhost:8080/",
     "height": 127
    },
    "colab_type": "code",
    "id": "VtkJ4-1yDOiz",
    "outputId": "40c580ef-e110-4bfa-a84a-1fff7ec4c597"
   },
   "outputs": [
    {
     "name": "stderr",
     "output_type": "stream",
     "text": [
      "Using TensorFlow backend.\n"
     ]
    },
    {
     "name": "stdout",
     "output_type": "stream",
     "text": [
      "Downloading data from https://s3.amazonaws.com/img-datasets/mnist.npz\n",
      "11493376/11490434 [==============================] - 1s 0us/step\n",
      "x_train shape: (60000, 28, 28, 1)\n",
      "60000 train samples\n",
      "10000 test samples\n"
     ]
    }
   ],
   "source": [
    "# Credits: https://github.com/keras-team/keras/blob/master/examples/mnist_cnn.py\n",
    "\n",
    "from __future__ import print_function\n",
    "import keras\n",
    "from keras.datasets import mnist\n",
    "from keras.models import Sequential\n",
    "from keras.layers import Dense, Dropout, Flatten\n",
    "from keras.layers import Conv2D, MaxPooling2D\n",
    "from keras import backend as K\n",
    "\n",
    "batch_size = 128\n",
    "num_classes = 10\n",
    "epochs = 5\n",
    "\n",
    "# input image dimensions\n",
    "img_rows, img_cols = 28, 28\n",
    "\n",
    "# the data, split between train and test sets\n",
    "(x_train, y_train), (x_test, y_test) = mnist.load_data()\n",
    "\n",
    "if K.image_data_format() == 'channels_first':\n",
    "    x_train = x_train.reshape(x_train.shape[0], 1, img_rows, img_cols)\n",
    "    x_test = x_test.reshape(x_test.shape[0], 1, img_rows, img_cols)\n",
    "    input_shape = (1, img_rows, img_cols)\n",
    "else:\n",
    "    x_train = x_train.reshape(x_train.shape[0], img_rows, img_cols, 1)\n",
    "    x_test = x_test.reshape(x_test.shape[0], img_rows, img_cols, 1)\n",
    "    input_shape = (img_rows, img_cols, 1)\n",
    "\n",
    "x_train = x_train.astype('float32')\n",
    "x_test = x_test.astype('float32')\n",
    "x_train /= 255\n",
    "x_test /= 255\n",
    "print('x_train shape:', x_train.shape)\n",
    "print(x_train.shape[0], 'train samples')\n",
    "print(x_test.shape[0], 'test samples')\n",
    "\n",
    "# convert class vectors to binary class matrices\n",
    "y_train = keras.utils.to_categorical(y_train, num_classes)\n",
    "y_test = keras.utils.to_categorical(y_test, num_classes)"
   ]
  },
  {
   "cell_type": "code",
   "execution_count": 0,
   "metadata": {
    "colab": {},
    "colab_type": "code",
    "id": "mKiYlFVDQXAA"
   },
   "outputs": [],
   "source": [
    "%matplotlib notebook\n",
    "%matplotlib inline\n",
    "import matplotlib.pyplot as plt\n",
    "import numpy as np\n",
    "import time\n",
    "# https://gist.github.com/greydanus/f6eee59eaf1d90fcb3b534a25362cea4\n",
    "# https://stackoverflow.com/a/14434334\n",
    "# this function is used to update the plots for each epoch and error\n",
    "def plt_dynamic(x, vy, ty, ax, colors=['b']):\n",
    "    ax.plot(x, vy, 'b', label=\"Validation Loss\")\n",
    "    ax.plot(x, ty, 'r', label=\"Train Loss\")\n",
    "    plt.legend()\n",
    "    plt.grid()\n",
    "    fig.canvas.draw()"
   ]
  },
  {
   "cell_type": "markdown",
   "metadata": {
    "colab_type": "text",
    "id": "UBCVnt5nDjVy"
   },
   "source": [
    "<h2>K1 : 3x3 kernel</h2>"
   ]
  },
  {
   "cell_type": "markdown",
   "metadata": {
    "colab_type": "text",
    "id": "hrPk6EahDwmJ"
   },
   "source": [
    "**T1 : 2 Convo Layer**"
   ]
  },
  {
   "cell_type": "code",
   "execution_count": 0,
   "metadata": {
    "colab": {
     "base_uri": "https://localhost:8080/",
     "height": 518
    },
    "colab_type": "code",
    "id": "iwDBcl0GDij5",
    "outputId": "cbbb74cf-169d-4499-94f8-3a061dd4fba7"
   },
   "outputs": [
    {
     "name": "stdout",
     "output_type": "stream",
     "text": [
      "Train on 60000 samples, validate on 10000 samples\n",
      "Epoch 1/5\n",
      "60000/60000 [==============================] - 167s 3ms/step - loss: 0.2510 - acc: 0.9237 - val_loss: 0.0608 - val_acc: 0.9807\n",
      "Epoch 2/5\n",
      "60000/60000 [==============================] - 166s 3ms/step - loss: 0.0867 - acc: 0.9742 - val_loss: 0.0403 - val_acc: 0.9857\n",
      "Epoch 3/5\n",
      "60000/60000 [==============================] - 167s 3ms/step - loss: 0.0624 - acc: 0.9810 - val_loss: 0.0395 - val_acc: 0.9871\n",
      "Epoch 4/5\n",
      "60000/60000 [==============================] - 166s 3ms/step - loss: 0.0504 - acc: 0.9849 - val_loss: 0.0327 - val_acc: 0.9886\n",
      "Epoch 5/5\n",
      "60000/60000 [==============================] - 166s 3ms/step - loss: 0.0421 - acc: 0.9867 - val_loss: 0.0281 - val_acc: 0.9911\n",
      "Test loss: 0.028134288165755424\n",
      "Test accuracy: 0.9911\n"
     ]
    },
    {
     "data": {
      "image/png": "[encoded data removed]",
      "text/plain": [
       "<Figure size 432x288 with 1 Axes>"
      ]
     },
     "metadata": {
      "tags": []
     },
     "output_type": "display_data"
    }
   ],
   "source": [
    "model = Sequential()\n",
    "model.add(Conv2D(32, kernel_size=(3, 3),\n",
    "                 activation='relu',\n",
    "                 input_shape=input_shape,\n",
    "                 kernel_initializer='he_normal'))\n",
    "\n",
    "model.add(Conv2D(64, (3, 3), activation='relu',kernel_initializer='he_normal'))\n",
    "\n",
    "model.add(MaxPooling2D(pool_size=(2, 2)))\n",
    "model.add(Dropout(0.25))\n",
    "\n",
    "model.add(Flatten())\n",
    "model.add(Dense(128, activation='relu'))\n",
    "model.add(Dropout(0.5))\n",
    "model.add(Dense(num_classes, activation='softmax'))\n",
    "\n",
    "model.compile(loss=keras.losses.categorical_crossentropy,\n",
    "              optimizer=keras.optimizers.Adadelta(),\n",
    "              metrics=['accuracy'])\n",
    "\n",
    "history = model.fit(x_train, y_train,\n",
    "          batch_size=batch_size,\n",
    "          epochs=epochs,\n",
    "          verbose=1,\n",
    "          validation_data=(x_test, y_test))\n",
    "score = model.evaluate(x_test, y_test, verbose=0)\n",
    "print('Test loss:', score[0])\n",
    "print('Test accuracy:', score[1])\n",
    "\n",
    "fig,ax = plt.subplots(1,1)\n",
    "ax.set_xlabel('epoch') ; ax.set_ylabel('Categorical Crossentropy Loss')\n",
    "\n",
    "# list of epoch numbers\n",
    "x = list(range(1,epochs+1))\n",
    "\n",
    "vy = history.history['val_loss']\n",
    "ty = history.history['loss']\n",
    "plt_dynamic(x, vy, ty, ax)"
   ]
  },
  {
   "cell_type": "markdown",
   "metadata": {
    "colab_type": "text",
    "id": "uIY4oZA7Fp1_"
   },
   "source": [
    "**T2 : 4 Conv layer**"
   ]
  },
  {
   "cell_type": "code",
   "execution_count": 0,
   "metadata": {
    "colab": {
     "base_uri": "https://localhost:8080/",
     "height": 518
    },
    "colab_type": "code",
    "id": "u9pnCQu9Fuzq",
    "outputId": "5e1ea47b-7a59-4b9e-f184-a038768b418a"
   },
   "outputs": [
    {
     "name": "stdout",
     "output_type": "stream",
     "text": [
      "Train on 60000 samples, validate on 10000 samples\n",
      "Epoch 1/5\n",
      "60000/60000 [==============================] - 215s 4ms/step - loss: 0.4876 - acc: 0.8455 - val_loss: 0.0495 - val_acc: 0.9840\n",
      "Epoch 2/5\n",
      "60000/60000 [==============================] - 215s 4ms/step - loss: 0.1222 - acc: 0.9652 - val_loss: 0.0324 - val_acc: 0.9895\n",
      "Epoch 3/5\n",
      "60000/60000 [==============================] - 215s 4ms/step - loss: 0.0835 - acc: 0.9754 - val_loss: 0.0281 - val_acc: 0.9915\n",
      "Epoch 4/5\n",
      "60000/60000 [==============================] - 213s 4ms/step - loss: 0.0672 - acc: 0.9804 - val_loss: 0.0252 - val_acc: 0.9923\n",
      "Epoch 5/5\n",
      "60000/60000 [==============================] - 214s 4ms/step - loss: 0.0588 - acc: 0.9830 - val_loss: 0.0251 - val_acc: 0.9925\n",
      "Test loss: 0.025063415565206016\n",
      "Test accuracy: 0.9925\n"
     ]
    },
    {
     "data": {
      "image/png": "[encoded data removed]",
      "text/plain": [
       "<Figure size 432x288 with 1 Axes>"
      ]
     },
     "metadata": {
      "tags": []
     },
     "output_type": "display_data"
    }
   ],
   "source": [
    "model1 = Sequential()\n",
    "model1.add(Conv2D(18, kernel_size=(3, 3),\n",
    "                 activation='relu',\n",
    "                 input_shape=input_shape,\n",
    "                 kernel_initializer='he_normal'))\n",
    "\n",
    "model1.add(Conv2D(48, (3, 3), activation='relu',kernel_initializer='he_normal'))\n",
    "model1.add(MaxPooling2D(pool_size=(2, 2)))\n",
    "model1.add(Dropout(0.5))\n",
    "\n",
    "model1.add(Conv2D(74, (3, 3), activation='relu',kernel_initializer='he_normal'))\n",
    "model1.add(Conv2D(128, (3, 3), activation='relu',kernel_initializer='he_normal'))\n",
    "model1.add(MaxPooling2D(pool_size=(2, 2)))\n",
    "model1.add(Dropout(0.25))\n",
    "\n",
    "model1.add(Flatten())\n",
    "model1.add(Dense(128, activation='relu'))\n",
    "model1.add(Dropout(0.5))\n",
    "model1.add(Dense(num_classes, activation='softmax'))\n",
    "\n",
    "model1.compile(loss=keras.losses.categorical_crossentropy,\n",
    "              optimizer=keras.optimizers.Adam(),\n",
    "              metrics=['accuracy'])\n",
    "\n",
    "history = model1.fit(x_train, y_train,\n",
    "          batch_size=batch_size,\n",
    "          epochs=epochs,\n",
    "          verbose=1,\n",
    "          validation_data=(x_test, y_test))\n",
    "score = model1.evaluate(x_test, y_test, verbose=0)\n",
    "print('Test loss:', score[0])\n",
    "print('Test accuracy:', score[1])\n",
    "\n",
    "fig,ax = plt.subplots(1,1)\n",
    "ax.set_xlabel('epoch') ; ax.set_ylabel('Categorical Crossentropy Loss')\n",
    "\n",
    "# list of epoch numbers\n",
    "x = list(range(1,epochs+1))\n",
    "\n",
    "vy = history.history['val_loss']\n",
    "ty = history.history['loss']\n",
    "plt_dynamic(x, vy, ty, ax)"
   ]
  },
  {
   "cell_type": "markdown",
   "metadata": {
    "colab_type": "text",
    "id": "D7F6qO2IeKxH"
   },
   "source": [
    "**T3 : 7 layer**"
   ]
  },
  {
   "cell_type": "code",
   "execution_count": 0,
   "metadata": {
    "colab": {
     "base_uri": "https://localhost:8080/",
     "height": 518
    },
    "colab_type": "code",
    "id": "ScARuanYeLZ7",
    "outputId": "5d3a0c4d-4bac-4280-fe58-919d1ef8f058"
   },
   "outputs": [
    {
     "name": "stdout",
     "output_type": "stream",
     "text": [
      "Train on 60000 samples, validate on 10000 samples\n",
      "Epoch 1/5\n",
      "60000/60000 [==============================] - 318s 5ms/step - loss: 0.4448 - acc: 0.8539 - val_loss: 0.0543 - val_acc: 0.9836\n",
      "Epoch 2/5\n",
      "60000/60000 [==============================] - 316s 5ms/step - loss: 0.1003 - acc: 0.9705 - val_loss: 0.0383 - val_acc: 0.9897\n",
      "Epoch 3/5\n",
      "60000/60000 [==============================] - 316s 5ms/step - loss: 0.0701 - acc: 0.9797 - val_loss: 0.0352 - val_acc: 0.9890\n",
      "Epoch 4/5\n",
      "60000/60000 [==============================] - 316s 5ms/step - loss: 0.0591 - acc: 0.9835 - val_loss: 0.0285 - val_acc: 0.9913\n",
      "Epoch 5/5\n",
      "60000/60000 [==============================] - 316s 5ms/step - loss: 0.0506 - acc: 0.9856 - val_loss: 0.0240 - val_acc: 0.9927\n",
      "Test loss: 0.024014955987941358\n",
      "Test accuracy: 0.9927\n"
     ]
    },
    {
     "data": {
      "image/png": "[encoded data removed]",
      "text/plain": [
       "<Figure size 432x288 with 1 Axes>"
      ]
     },
     "metadata": {
      "tags": []
     },
     "output_type": "display_data"
    }
   ],
   "source": [
    "model1 = Sequential()\n",
    "model1.add(Conv2D(10, kernel_size=(3, 3),\n",
    "                 activation='relu',\n",
    "                 input_shape=input_shape,\n",
    "                 kernel_initializer='he_normal'))\n",
    "model1.add(Conv2D(20, (3, 3), activation='relu',kernel_initializer='he_normal'))\n",
    "model1.add(Conv2D(35, (3, 3), activation='relu',kernel_initializer='he_normal'))\n",
    "model1.add(Conv2D(55, (3, 3), activation='relu',kernel_initializer='he_normal'))\n",
    "model1.add(MaxPooling2D(pool_size=(2, 2)))\n",
    "model1.add(Dropout(0.5))\n",
    "\n",
    "model1.add(Conv2D(74, (3, 3), activation='relu',kernel_initializer='he_normal'))\n",
    "model1.add(Conv2D(95, (3, 3), activation='relu',kernel_initializer='he_normal'))\n",
    "model1.add(Conv2D(128, (3, 3), activation='relu',kernel_initializer='he_normal'))\n",
    "model1.add(MaxPooling2D(pool_size=(2, 2)))\n",
    "model1.add(Dropout(0.25))\n",
    "\n",
    "model1.add(Flatten())\n",
    "model1.add(Dense(128, activation='relu'))\n",
    "model1.add(Dropout(0.5))\n",
    "model1.add(Dense(num_classes, activation='softmax'))\n",
    "\n",
    "model1.compile(loss=keras.losses.categorical_crossentropy,\n",
    "              optimizer=keras.optimizers.Adam(),\n",
    "              metrics=['accuracy'])\n",
    "\n",
    "history = model1.fit(x_train, y_train,\n",
    "          batch_size=batch_size,\n",
    "          epochs=epochs,\n",
    "          verbose=1,\n",
    "          validation_data=(x_test, y_test))\n",
    "score = model1.evaluate(x_test, y_test, verbose=0)\n",
    "print('Test loss:', score[0])\n",
    "print('Test accuracy:', score[1])\n",
    "\n",
    "fig,ax = plt.subplots(1,1)\n",
    "ax.set_xlabel('epoch') ; ax.set_ylabel('Categorical Crossentropy Loss')\n",
    "\n",
    "# list of epoch numbers\n",
    "x = list(range(1,epochs+1))\n",
    "\n",
    "vy = history.history['val_loss']\n",
    "ty = history.history['loss']\n",
    "plt_dynamic(x, vy, ty, ax)"
   ]
  },
  {
   "cell_type": "markdown",
   "metadata": {
    "colab_type": "text",
    "id": "iO8tCNags-yS"
   },
   "source": [
    "<h2>K2 : 5x5 kernel</h2>"
   ]
  },
  {
   "cell_type": "markdown",
   "metadata": {
    "colab_type": "text",
    "id": "0WSGiR88tDit"
   },
   "source": [
    "**T1 : 2 Layers**"
   ]
  },
  {
   "cell_type": "code",
   "execution_count": 0,
   "metadata": {
    "colab": {
     "base_uri": "https://localhost:8080/",
     "height": 518
    },
    "colab_type": "code",
    "id": "JwXnW_V1fqO6",
    "outputId": "f3ef868f-c6e5-4742-ee27-5b3c1a272151"
   },
   "outputs": [
    {
     "name": "stdout",
     "output_type": "stream",
     "text": [
      "Train on 60000 samples, validate on 10000 samples\n",
      "Epoch 1/5\n",
      "60000/60000 [==============================] - 251s 4ms/step - loss: 0.2285 - acc: 0.9307 - val_loss: 0.0525 - val_acc: 0.9829\n",
      "Epoch 2/5\n",
      "60000/60000 [==============================] - 251s 4ms/step - loss: 0.0725 - acc: 0.9788 - val_loss: 0.0347 - val_acc: 0.9880\n",
      "Epoch 3/5\n",
      "60000/60000 [==============================] - 251s 4ms/step - loss: 0.0526 - acc: 0.9846 - val_loss: 0.0282 - val_acc: 0.9906\n",
      "Epoch 4/5\n",
      "60000/60000 [==============================] - 250s 4ms/step - loss: 0.0444 - acc: 0.9867 - val_loss: 0.0296 - val_acc: 0.9895\n",
      "Epoch 5/5\n",
      "60000/60000 [==============================] - 252s 4ms/step - loss: 0.0344 - acc: 0.9898 - val_loss: 0.0289 - val_acc: 0.9908\n",
      "Test loss: 0.028865598604393018\n",
      "Test accuracy: 0.9908\n"
     ]
    },
    {
     "data": {
      "image/png": "[encoded data removed]",
      "text/plain": [
       "<Figure size 432x288 with 1 Axes>"
      ]
     },
     "metadata": {
      "tags": []
     },
     "output_type": "display_data"
    }
   ],
   "source": [
    "model = Sequential()\n",
    "model.add(Conv2D(32, kernel_size=(5, 5),\n",
    "                 activation='relu',\n",
    "                 input_shape=input_shape,\n",
    "                 kernel_initializer='he_normal'))\n",
    "\n",
    "model.add(Conv2D(64, (5, 5), activation='relu',kernel_initializer='he_normal'))\n",
    "\n",
    "model.add(MaxPooling2D(pool_size=(2, 2)))\n",
    "model.add(Dropout(0.25))\n",
    "\n",
    "model.add(Flatten())\n",
    "model.add(Dense(128, activation='relu'))\n",
    "model.add(Dropout(0.5))\n",
    "model.add(Dense(num_classes, activation='softmax'))\n",
    "\n",
    "model.compile(loss=keras.losses.categorical_crossentropy,\n",
    "              optimizer=keras.optimizers.Adadelta(),\n",
    "              metrics=['accuracy'])\n",
    "\n",
    "history = model.fit(x_train, y_train,\n",
    "          batch_size=batch_size,\n",
    "          epochs=epochs,\n",
    "          verbose=1,\n",
    "          validation_data=(x_test, y_test))\n",
    "score = model.evaluate(x_test, y_test, verbose=0)\n",
    "print('Test loss:', score[0])\n",
    "print('Test accuracy:', score[1])\n",
    "\n",
    "fig,ax = plt.subplots(1,1)\n",
    "ax.set_xlabel('epoch') ; ax.set_ylabel('Categorical Crossentropy Loss')\n",
    "\n",
    "# list of epoch numbers\n",
    "x = list(range(1,epochs+1))\n",
    "\n",
    "vy = history.history['val_loss']\n",
    "ty = history.history['loss']\n",
    "plt_dynamic(x, vy, ty, ax)"
   ]
  },
  {
   "cell_type": "markdown",
   "metadata": {
    "colab_type": "text",
    "id": "QywOgCOpypXL"
   },
   "source": [
    "**T2 : 4 layers**"
   ]
  },
  {
   "cell_type": "code",
   "execution_count": 0,
   "metadata": {
    "colab": {
     "base_uri": "https://localhost:8080/",
     "height": 518
    },
    "colab_type": "code",
    "id": "5dn5ZydQypxQ",
    "outputId": "b31f2aae-6de7-4c66-e585-eff312022d7f"
   },
   "outputs": [
    {
     "name": "stdout",
     "output_type": "stream",
     "text": [
      "Train on 60000 samples, validate on 10000 samples\n",
      "Epoch 1/5\n",
      "60000/60000 [==============================] - 238s 4ms/step - loss: 0.4460 - acc: 0.8593 - val_loss: 0.0600 - val_acc: 0.9825\n",
      "Epoch 2/5\n",
      "60000/60000 [==============================] - 237s 4ms/step - loss: 0.1152 - acc: 0.9691 - val_loss: 0.0314 - val_acc: 0.9904\n",
      "Epoch 3/5\n",
      "60000/60000 [==============================] - 236s 4ms/step - loss: 0.0805 - acc: 0.9789 - val_loss: 0.0340 - val_acc: 0.9913\n",
      "Epoch 4/5\n",
      "60000/60000 [==============================] - 236s 4ms/step - loss: 0.0689 - acc: 0.9820 - val_loss: 0.0326 - val_acc: 0.9900\n",
      "Epoch 5/5\n",
      "60000/60000 [==============================] - 234s 4ms/step - loss: 0.0555 - acc: 0.9854 - val_loss: 0.0213 - val_acc: 0.9934\n",
      "Test loss: 0.0213252486387064\n",
      "Test accuracy: 0.9934\n"
     ]
    },
    {
     "data": {
      "image/png": "[encoded data removed]",
      "text/plain": [
       "<Figure size 432x288 with 1 Axes>"
      ]
     },
     "metadata": {
      "tags": []
     },
     "output_type": "display_data"
    }
   ],
   "source": [
    "model1 = Sequential()\n",
    "model1.add(Conv2D(18, kernel_size=(5, 5),\n",
    "                 activation='relu',\n",
    "                 input_shape=input_shape,\n",
    "                 kernel_initializer='he_normal'))\n",
    "\n",
    "model1.add(Conv2D(48, (5, 5), activation='relu',kernel_initializer='he_normal'))\n",
    "model1.add(MaxPooling2D(pool_size=(2, 2)))\n",
    "model1.add(Dropout(0.5))\n",
    "\n",
    "model1.add(Conv2D(74, (5, 5), activation='relu',kernel_initializer='he_normal'))\n",
    "model1.add(Conv2D(128, (5, 5), activation='relu',kernel_initializer='he_normal'))\n",
    "model1.add(MaxPooling2D(pool_size=(2, 2)))\n",
    "model1.add(Dropout(0.25))\n",
    "\n",
    "model1.add(Flatten())\n",
    "model1.add(Dense(128, activation='relu'))\n",
    "model1.add(Dropout(0.5))\n",
    "model1.add(Dense(num_classes, activation='softmax'))\n",
    "\n",
    "model1.compile(loss=keras.losses.categorical_crossentropy,\n",
    "              optimizer=keras.optimizers.Adam(),\n",
    "              metrics=['accuracy'])\n",
    "\n",
    "history = model1.fit(x_train, y_train,\n",
    "          batch_size=batch_size,\n",
    "          epochs=epochs,\n",
    "          verbose=1,\n",
    "          validation_data=(x_test, y_test))\n",
    "score = model1.evaluate(x_test, y_test, verbose=0)\n",
    "print('Test loss:', score[0])\n",
    "print('Test accuracy:', score[1])\n",
    "\n",
    "fig,ax = plt.subplots(1,1)\n",
    "ax.set_xlabel('epoch') ; ax.set_ylabel('Categorical Crossentropy Loss')\n",
    "\n",
    "# list of epoch numbers\n",
    "x = list(range(1,epochs+1))\n",
    "\n",
    "vy = history.history['val_loss']\n",
    "ty = history.history['loss']\n",
    "plt_dynamic(x, vy, ty, ax)"
   ]
  },
  {
   "cell_type": "markdown",
   "metadata": {
    "colab_type": "text",
    "id": "r2Qws8i4_VOt"
   },
   "source": [
    "**T3 : 7 Layers**"
   ]
  },
  {
   "cell_type": "code",
   "execution_count": 0,
   "metadata": {
    "colab": {
     "base_uri": "https://localhost:8080/",
     "height": 522
    },
    "colab_type": "code",
    "id": "NdnhGZGh_U3D",
    "outputId": "a248060e-377f-4806-9c0b-d1a2ba6f0141"
   },
   "outputs": [
    {
     "name": "stdout",
     "output_type": "stream",
     "text": [
      "Train on 60000 samples, validate on 10000 samples\n",
      "Epoch 1/5\n",
      "60000/60000 [==============================] - 349s 6ms/step - loss: 0.4301 - acc: 0.8580 - val_loss: 0.0470 - val_acc: 0.9857\n",
      "Epoch 2/5\n",
      "60000/60000 [==============================] - 347s 6ms/step - loss: 0.0953 - acc: 0.9720 - val_loss: 0.0343 - val_acc: 0.9878\n",
      "Epoch 3/5\n",
      "60000/60000 [==============================] - 347s 6ms/step - loss: 0.0717 - acc: 0.9790 - val_loss: 0.0300 - val_acc: 0.9912\n",
      "Epoch 4/5\n",
      "60000/60000 [==============================] - 347s 6ms/step - loss: 0.0587 - acc: 0.9836 - val_loss: 0.0272 - val_acc: 0.9906\n",
      "Epoch 5/5\n",
      "60000/60000 [==============================] - 346s 6ms/step - loss: 0.0495 - acc: 0.9861 - val_loss: 0.0258 - val_acc: 0.9920\n",
      "Test loss: 0.025778980856500402\n",
      "Test accuracy: 0.992\n"
     ]
    },
    {
     "data": {
      "image/png": "[encoded data removed]",
      "text/plain": [
       "<Figure size 432x288 with 1 Axes>"
      ]
     },
     "metadata": {
      "tags": []
     },
     "output_type": "display_data"
    }
   ],
   "source": [
    "model2 = Sequential()\n",
    "model2.add(Conv2D(32, (5, 5), padding='same', activation='relu', input_shape=input_shape,kernel_initializer='he_normal'))\n",
    "model2.add(Conv2D(32, (5, 5), activation='relu',kernel_initializer='he_normal'))\n",
    "model2.add(MaxPooling2D(pool_size=(2, 2)))\n",
    "model2.add(Dropout(0.25))\n",
    " \n",
    "model2.add(Conv2D(64, (3, 3), padding='same', activation='relu',kernel_initializer='he_normal'))\n",
    "model2.add(Conv2D(64, (3, 3), activation='relu',kernel_initializer='he_normal'))\n",
    "model2.add(MaxPooling2D(pool_size=(2, 2)))\n",
    "model2.add(Dropout(0.25))\n",
    " \n",
    "model2.add(Conv2D(64, (3, 3), padding='same', activation='relu',kernel_initializer='he_normal'))\n",
    "model2.add(Conv2D(64, (3, 3), activation='relu',kernel_initializer='he_normal'))\n",
    "model2.add(MaxPooling2D(pool_size=(1, 1)))\n",
    "model2.add(Dropout(0.25))\n",
    "\n",
    "model2.add(Conv2D(64, (3, 3), padding='same',activation='relu',kernel_initializer='he_normal'))\n",
    "model2.add(MaxPooling2D(pool_size=(1, 1)))\n",
    "model2.add(Dropout(0.25))\n",
    " \n",
    "model2.add(Flatten())\n",
    "model2.add(Dense(512, activation='relu'))\n",
    "model2.add(Dropout(0.5))\n",
    "model2.add(Dense(num_classes, activation='softmax'))\n",
    "\n",
    "model2.compile(loss=keras.losses.categorical_crossentropy,\n",
    "              optimizer=keras.optimizers.Adam(),\n",
    "              metrics=['accuracy'])\n",
    "\n",
    "history = model2.fit(x_train, y_train,\n",
    "          batch_size=batch_size,\n",
    "          epochs=epochs,\n",
    "          verbose=1,\n",
    "          validation_data=(x_test, y_test))\n",
    "score = model2.evaluate(x_test, y_test, verbose=0)\n",
    "print('Test loss:', score[0])\n",
    "print('Test accuracy:', score[1])\n",
    "\n",
    "fig,ax = plt.subplots(1,1)\n",
    "ax.set_xlabel('epoch') ; ax.set_ylabel('Categorical Crossentropy Loss')\n",
    "\n",
    "# list of epoch numbers\n",
    "x = list(range(1,epochs+1))\n",
    "\n",
    "vy = history.history['val_loss']\n",
    "ty = history.history['loss']\n",
    "plt_dynamic(x, vy, ty, ax)"
   ]
  },
  {
   "cell_type": "markdown",
   "metadata": {
    "colab_type": "text",
    "id": "rX6YqPkTHAL0"
   },
   "source": [
    "<h2>K3 : 7x7 kernel</h2>"
   ]
  },
  {
   "cell_type": "markdown",
   "metadata": {
    "colab_type": "text",
    "id": "ZzV8tc8CHCd1"
   },
   "source": [
    "T1 : 2 Layers"
   ]
  },
  {
   "cell_type": "code",
   "execution_count": 0,
   "metadata": {
    "colab": {
     "base_uri": "https://localhost:8080/",
     "height": 518
    },
    "colab_type": "code",
    "id": "7fGhhgV4HCxd",
    "outputId": "c294ca31-62b9-42cb-b5e2-f2ced906bcfe"
   },
   "outputs": [
    {
     "name": "stdout",
     "output_type": "stream",
     "text": [
      "Train on 60000 samples, validate on 10000 samples\n",
      "Epoch 1/5\n",
      "60000/60000 [==============================] - 309s 5ms/step - loss: 0.2215 - acc: 0.9331 - val_loss: 0.0428 - val_acc: 0.9856\n",
      "Epoch 2/5\n",
      "60000/60000 [==============================] - 306s 5ms/step - loss: 0.0723 - acc: 0.9792 - val_loss: 0.0292 - val_acc: 0.9910\n",
      "Epoch 3/5\n",
      "60000/60000 [==============================] - 307s 5ms/step - loss: 0.0515 - acc: 0.9850 - val_loss: 0.0308 - val_acc: 0.9900\n",
      "Epoch 4/5\n",
      "60000/60000 [==============================] - 307s 5ms/step - loss: 0.0410 - acc: 0.9880 - val_loss: 0.0258 - val_acc: 0.9917\n",
      "Epoch 5/5\n",
      "60000/60000 [==============================] - 307s 5ms/step - loss: 0.0326 - acc: 0.9904 - val_loss: 0.0212 - val_acc: 0.9935\n",
      "Test loss: 0.021209821229708905\n",
      "Test accuracy: 0.9935\n"
     ]
    },
    {
     "data": {
      "image/png": "[encoded data removed]",
      "text/plain": [
       "<Figure size 432x288 with 1 Axes>"
      ]
     },
     "metadata": {
      "tags": []
     },
     "output_type": "display_data"
    }
   ],
   "source": [
    "model = Sequential()\n",
    "model.add(Conv2D(32, kernel_size=(7, 7),\n",
    "                 activation='relu',\n",
    "                 input_shape=input_shape,\n",
    "                 kernel_initializer='he_normal'))\n",
    "\n",
    "model.add(Conv2D(64, (7, 7), activation='relu',kernel_initializer='he_normal'))\n",
    "\n",
    "model.add(MaxPooling2D(pool_size=(2, 2)))\n",
    "model.add(Dropout(0.25))\n",
    "\n",
    "model.add(Flatten())\n",
    "model.add(Dense(128, activation='relu'))\n",
    "model.add(Dropout(0.5))\n",
    "model.add(Dense(num_classes, activation='softmax'))\n",
    "\n",
    "model.compile(loss=keras.losses.categorical_crossentropy,\n",
    "              optimizer=keras.optimizers.Adadelta(),\n",
    "              metrics=['accuracy'])\n",
    "\n",
    "history = model.fit(x_train, y_train,\n",
    "          batch_size=batch_size,\n",
    "          epochs=epochs,\n",
    "          verbose=1,\n",
    "          validation_data=(x_test, y_test))\n",
    "score = model.evaluate(x_test, y_test, verbose=0)\n",
    "print('Test loss:', score[0])\n",
    "print('Test accuracy:', score[1])\n",
    "\n",
    "fig,ax = plt.subplots(1,1)\n",
    "ax.set_xlabel('epoch') ; ax.set_ylabel('Categorical Crossentropy Loss')\n",
    "\n",
    "# list of epoch numbers\n",
    "x = list(range(1,epochs+1))\n",
    "\n",
    "vy = history.history['val_loss']\n",
    "ty = history.history['loss']\n",
    "plt_dynamic(x, vy, ty, ax)"
   ]
  },
  {
   "cell_type": "markdown",
   "metadata": {
    "colab_type": "text",
    "id": "JqSkO83-Q_qL"
   },
   "source": [
    "**T2 : 4 layers**"
   ]
  },
  {
   "cell_type": "code",
   "execution_count": 0,
   "metadata": {
    "colab": {
     "base_uri": "https://localhost:8080/",
     "height": 703
    },
    "colab_type": "code",
    "id": "9YH3GMBXQ_cx",
    "outputId": "a3ba5c1b-704a-41b3-ace1-19f1bb36d2f2"
   },
   "outputs": [
    {
     "name": "stdout",
     "output_type": "stream",
     "text": [
      "WARNING:tensorflow:From /usr/local/lib/python3.6/dist-packages/tensorflow/python/framework/op_def_library.py:263: colocate_with (from tensorflow.python.framework.ops) is deprecated and will be removed in a future version.\n",
      "Instructions for updating:\n",
      "Colocations handled automatically by placer.\n",
      "WARNING:tensorflow:From /usr/local/lib/python3.6/dist-packages/keras/backend/tensorflow_backend.py:3445: calling dropout (from tensorflow.python.ops.nn_ops) with keep_prob is deprecated and will be removed in a future version.\n",
      "Instructions for updating:\n",
      "Please use `rate` instead of `keep_prob`. Rate should be set to `rate = 1 - keep_prob`.\n",
      "WARNING:tensorflow:From /usr/local/lib/python3.6/dist-packages/tensorflow/python/ops/math_ops.py:3066: to_int32 (from tensorflow.python.ops.math_ops) is deprecated and will be removed in a future version.\n",
      "Instructions for updating:\n",
      "Use tf.cast instead.\n",
      "Train on 60000 samples, validate on 10000 samples\n",
      "Epoch 1/5\n",
      "60000/60000 [==============================] - 1655s 28ms/step - loss: 0.3568 - acc: 0.8889 - val_loss: 0.0460 - val_acc: 0.9862\n",
      "Epoch 2/5\n",
      "60000/60000 [==============================] - 1656s 28ms/step - loss: 0.0886 - acc: 0.9764 - val_loss: 0.0334 - val_acc: 0.9892\n",
      "Epoch 3/5\n",
      "60000/60000 [==============================] - 1650s 27ms/step - loss: 0.0628 - acc: 0.9832 - val_loss: 0.0196 - val_acc: 0.9943\n",
      "Epoch 4/5\n",
      "60000/60000 [==============================] - 1633s 27ms/step - loss: 0.0523 - acc: 0.9857 - val_loss: 0.0230 - val_acc: 0.9930\n",
      "Epoch 5/5\n",
      "60000/60000 [==============================] - 1635s 27ms/step - loss: 0.0417 - acc: 0.9888 - val_loss: 0.0247 - val_acc: 0.9928\n",
      "Test loss: 0.024687895217674213\n",
      "Test accuracy: 0.9928\n"
     ]
    },
    {
     "data": {
      "image/png": "[encoded data removed]",
      "text/plain": [
       "<Figure size 432x288 with 1 Axes>"
      ]
     },
     "metadata": {
      "tags": []
     },
     "output_type": "display_data"
    }
   ],
   "source": [
    "model1 = Sequential()\n",
    "model1.add(Conv2D(18, kernel_size=(7, 7),\n",
    "                 activation='relu',\n",
    "                 input_shape=input_shape,\n",
    "                 kernel_initializer='he_normal', padding='same'))\n",
    "\n",
    "model1.add(Conv2D(48, (7, 7), activation='relu',kernel_initializer='he_normal', padding='same'))\n",
    "model1.add(MaxPooling2D(pool_size=(2, 2)))\n",
    "model1.add(Dropout(0.5))\n",
    "\n",
    "model1.add(Conv2D(74, (7, 7), activation='relu',kernel_initializer='he_normal', padding='same'))\n",
    "model1.add(Conv2D(128, (7, 7), activation='relu',kernel_initializer='he_normal', padding='same'))\n",
    "model1.add(MaxPooling2D(pool_size=(2, 2)))\n",
    "model1.add(Dropout(0.25))\n",
    "\n",
    "model1.add(Flatten())\n",
    "model1.add(Dense(128, activation='relu'))\n",
    "model1.add(Dropout(0.5))\n",
    "model1.add(Dense(num_classes, activation='softmax'))\n",
    "\n",
    "model1.compile(loss=keras.losses.categorical_crossentropy,\n",
    "              optimizer=keras.optimizers.Adam(),\n",
    "              metrics=['accuracy'])\n",
    "\n",
    "history = model1.fit(x_train, y_train,\n",
    "          batch_size=batch_size,\n",
    "          epochs=epochs,\n",
    "          verbose=1,\n",
    "          validation_data=(x_test, y_test))\n",
    "score = model1.evaluate(x_test, y_test, verbose=0)\n",
    "print('Test loss:', score[0])\n",
    "print('Test accuracy:', score[1])\n",
    "\n",
    "fig,ax = plt.subplots(1,1)\n",
    "ax.set_xlabel('epoch') ; ax.set_ylabel('Categorical Crossentropy Loss')\n",
    "\n",
    "# list of epoch numbers\n",
    "x = list(range(1,epochs+1))\n",
    "\n",
    "vy = history.history['val_loss']\n",
    "ty = history.history['loss']\n",
    "plt_dynamic(x, vy, ty, ax)"
   ]
  },
  {
   "cell_type": "markdown",
   "metadata": {
    "colab_type": "text",
    "id": "ATZnPxPSPMG-"
   },
   "source": [
    "**T3 : 7 layers**"
   ]
  },
  {
   "cell_type": "code",
   "execution_count": 4,
   "metadata": {
    "colab": {
     "base_uri": "https://localhost:8080/",
     "height": 573
    },
    "colab_type": "code",
    "id": "RT58cc6YPMVC",
    "outputId": "55813a7b-3080-498b-94c5-7f103745c000"
   },
   "outputs": [
    {
     "name": "stdout",
     "output_type": "stream",
     "text": [
      "WARNING:tensorflow:From /usr/local/lib/python3.6/dist-packages/tensorflow/python/ops/math_ops.py:3066: to_int32 (from tensorflow.python.ops.math_ops) is deprecated and will be removed in a future version.\n",
      "Instructions for updating:\n",
      "Use tf.cast instead.\n",
      "Train on 60000 samples, validate on 10000 samples\n",
      "Epoch 1/5\n",
      "60000/60000 [==============================] - 1060s 18ms/step - loss: 0.4036 - acc: 0.8621 - val_loss: 0.0537 - val_acc: 0.9851\n",
      "Epoch 2/5\n",
      "60000/60000 [==============================] - 1064s 18ms/step - loss: 0.0805 - acc: 0.9782 - val_loss: 0.0384 - val_acc: 0.9888\n",
      "Epoch 3/5\n",
      "60000/60000 [==============================] - 1063s 18ms/step - loss: 0.0564 - acc: 0.9854 - val_loss: 0.0282 - val_acc: 0.9922\n",
      "Epoch 4/5\n",
      "60000/60000 [==============================] - 1060s 18ms/step - loss: 0.0522 - acc: 0.9873 - val_loss: 0.0333 - val_acc: 0.9905\n",
      "Epoch 5/5\n",
      "60000/60000 [==============================] - 1068s 18ms/step - loss: 0.0460 - acc: 0.9888 - val_loss: 0.0419 - val_acc: 0.9894\n",
      "Test loss: 0.04188694998633478\n",
      "Test accuracy: 0.9894\n"
     ]
    },
    {
     "data": {
      "image/png": "[encoded data removed]",
      "text/plain": [
       "<Figure size 432x288 with 1 Axes>"
      ]
     },
     "metadata": {
      "tags": []
     },
     "output_type": "display_data"
    }
   ],
   "source": [
    "model2 = Sequential()\n",
    "model2.add(Conv2D(32, (7, 7), padding='same', activation='relu', input_shape=input_shape,kernel_initializer='he_normal'))\n",
    "model2.add(Conv2D(32, (7, 7), activation='relu',kernel_initializer='he_normal'))\n",
    "model2.add(MaxPooling2D(pool_size=(2, 2)))\n",
    "model2.add(Dropout(0.25))\n",
    " \n",
    "model2.add(Conv2D(64, (7, 7), padding='same', activation='relu',kernel_initializer='he_normal'))\n",
    "model2.add(Conv2D(64, (7, 7), padding='same', activation='relu',kernel_initializer='he_normal'))\n",
    "model2.add(MaxPooling2D(pool_size=(2, 2)))\n",
    "model2.add(Dropout(0.25))\n",
    " \n",
    "model2.add(Conv2D(64, (7, 7), padding='same', activation='relu',kernel_initializer='he_normal'))\n",
    "model2.add(Conv2D(64, (7, 7),padding='same', activation='relu',kernel_initializer='he_normal'))\n",
    "model2.add(MaxPooling2D(pool_size=(1, 1)))\n",
    "model2.add(Dropout(0.25))\n",
    "\n",
    "model2.add(Conv2D(64, (7, 7), padding='same',activation='relu',kernel_initializer='he_normal'))\n",
    "model2.add(MaxPooling2D(pool_size=(1, 1)))\n",
    "model2.add(Dropout(0.25))\n",
    " \n",
    "model2.add(Flatten())\n",
    "model2.add(Dense(512, activation='relu'))\n",
    "model2.add(Dropout(0.5))\n",
    "model2.add(Dense(num_classes, activation='softmax'))\n",
    "\n",
    "model2.compile(loss=keras.losses.categorical_crossentropy,\n",
    "              optimizer=keras.optimizers.Adam(),\n",
    "              metrics=['accuracy'])\n",
    "\n",
    "history = model2.fit(x_train, y_train,\n",
    "          batch_size=batch_size,\n",
    "          epochs=epochs,\n",
    "          verbose=1,\n",
    "          validation_data=(x_test, y_test))\n",
    "score = model2.evaluate(x_test, y_test, verbose=0)\n",
    "print('Test loss:', score[0])\n",
    "print('Test accuracy:', score[1])\n",
    "\n",
    "fig,ax = plt.subplots(1,1)\n",
    "ax.set_xlabel('epoch') ; ax.set_ylabel('Categorical Crossentropy Loss')\n",
    "\n",
    "# list of epoch numbers\n",
    "x = list(range(1,epochs+1))\n",
    "\n",
    "vy = history.history['val_loss']\n",
    "ty = history.history['loss']\n",
    "plt_dynamic(x, vy, ty, ax)"
   ]
  },
  {
   "cell_type": "markdown",
   "metadata": {
    "colab_type": "text",
    "id": "eLPfGCJWDSX3"
   },
   "source": [
    "<h2> **Conclusion** </h2>"
   ]
  },
  {
   "cell_type": "markdown",
   "metadata": {
    "colab_type": "text",
    "id": "SDlkxOizI72Z"
   },
   "source": [
    "STEPS : \n",
    "\n",
    "*   Load and Divide data in train and test\n",
    "*   Normalize the data and convert itno categorical data\n",
    "*   Create a sequential model .\n",
    "*   Add Convolution layer with  'm' layers and initalizer =He-Normal \n",
    "*   Add Kernel Size and Add activation(relU)\n",
    "*   Add Same Padding\n",
    "*   Add MaxPool layer \n",
    "*   Add Dropout layer\n",
    "*   Flatten the Output from the above model\n",
    "*   Add Fully Connected layer\n",
    "*   Add Softmax layer and Optimizer is Adam\n",
    "*   Loss is Categorical Crossentropy Loss"
   ]
  },
  {
   "cell_type": "markdown",
   "metadata": {
    "colab_type": "text",
    "id": "tX3QNksgIj9z"
   },
   "source": [
    "**NOTE : I have Used only 5 epochs as each epoch was taking more than 5 mins thereby increasing overall model run time.**"
   ]
  },
  {
   "cell_type": "code",
   "execution_count": 10,
   "metadata": {
    "colab": {
     "base_uri": "https://localhost:8080/",
     "height": 293
    },
    "colab_type": "code",
    "id": "KiDou3nvFdxq",
    "outputId": "40ce344f-1a98-4688-f524-74cd80763e23"
   },
   "outputs": [
    {
     "name": "stdout",
     "output_type": "stream",
     "text": [
      "+-------------+-------+---------------+---------------+\n",
      "| Kernel Size | Trail | Hidden layers | Test Accuracy |\n",
      "+-------------+-------+---------------+---------------+\n",
      "|    3 x 3    |   T1  |       2       |     99.11     |\n",
      "|    3 x 3    |   T2  |       4       |     99.25     |\n",
      "|    3 x 3    |   T3  |       7       |     99.27     |\n",
      "|      -      |   -   |       -       |       -       |\n",
      "|    5 x 5    |   T2  |       2       |     99.08     |\n",
      "|    5 x 5    |   T1  |       4       |     99.34     |\n",
      "|    5 x 5    |   T3  |       7       |      99.2     |\n",
      "|      -      |   -   |       -       |       -       |\n",
      "|    7 x 7    |   T2  |       2       |     99.35     |\n",
      "|    7 x 7    |   T1  |       4       |     99.28     |\n",
      "|    7 x 7    |   T3  |       7       |     98.95     |\n",
      "+-------------+-------+---------------+---------------+\n"
     ]
    }
   ],
   "source": [
    "from prettytable import PrettyTable\n",
    "    \n",
    "x = PrettyTable()\n",
    "\n",
    "x.field_names = [\"Kernel Size\",\"Trail\",\"Hidden layers\",\"Test Accuracy\"]\n",
    "\n",
    "x.add_row([\"3 x 3\",\"T1\", 2, 99.11])\n",
    "x.add_row([\"3 x 3\",\"T2\", 4, 99.25])\n",
    "x.add_row([\"3 x 3\",\"T3\", 7, 99.27])\n",
    "x.add_row([\"-\",\"-\", \"-\" , \"-\" ])\n",
    "x.add_row([\"5 x 5\",\"T2\", 2, 99.08])\n",
    "x.add_row([\"5 x 5\",\"T1\", 4, 99.34])\n",
    "x.add_row([\"5 x 5\",\"T3\", 7, 99.2])\n",
    "x.add_row([\"-\",\"-\", \"-\" , \"-\" ])\n",
    "x.add_row([\"7 x 7\",\"T2\", 2, 99.35])\n",
    "x.add_row([\"7 x 7\",\"T1\", 4, 99.28])\n",
    "x.add_row([\"7 x 7\",\"T3\", 7, 98.95])\n",
    "\n",
    "print(x)"
   ]
  },
  {
   "cell_type": "markdown",
   "metadata": {
    "colab_type": "text",
    "id": "IDTu25L8OopB"
   },
   "source": [
    "\n",
    "*   Even with 5 epochs (7x7) kernel cnn is giving 99% accuracy, hence increasing no. of epochs will increase accuracy preety well\n",
    "*   Padding and kernel Initializer are important paramter\n",
    "*   Dense CNN takes time to compile"
   ]
  }
 ],
 "metadata": {
  "colab": {
   "collapsed_sections": [],
   "name": "CNN_MNIST_Assignment.ipynb",
   "provenance": [],
   "version": "0.3.2"
  },
  "kernelspec": {
   "display_name": "Python 3",
   "language": "python",
   "name": "python3"
  },
  "language_info": {
   "codemirror_mode": {
    "name": "ipython",
    "version": 3
   },
   "file_extension": ".py",
   "mimetype": "text/x-python",
   "name": "python",
   "nbconvert_exporter": "python",
   "pygments_lexer": "ipython3",
   "version": "3.7.1"
  }
 },
 "nbformat": 4,
 "nbformat_minor": 1
}
