{
 "cells": [
  {
   "cell_type": "code",
   "execution_count": 0,
   "metadata": {
    "colab": {},
    "colab_type": "code",
    "id": "87nRATiFAQCM"
   },
   "outputs": [],
   "source": [
    "# importing Keras libraries\n",
    "from keras.utils import np_utils \n",
    "from keras.datasets import mnist \n",
    "import seaborn as sns\n",
    "from keras.initializers import RandomNormal\n",
    "from keras.models import Sequential \n",
    "from keras.layers import Dense, Activation "
   ]
  },
  {
   "cell_type": "code",
   "execution_count": 0,
   "metadata": {
    "colab": {},
    "colab_type": "code",
    "id": "qSKBmp_LAjiS"
   },
   "outputs": [],
   "source": [
    "%matplotlib notebook\n",
    "%matplotlib inline\n",
    "import matplotlib.pyplot as plt\n",
    "import numpy as np\n",
    "import time\n",
    "# https://gist.github.com/greydanus/f6eee59eaf1d90fcb3b534a25362cea4\n",
    "# https://stackoverflow.com/a/14434334\n",
    "# this function is used to update the plots for each epoch and error\n",
    "def plt_dynamic(x, vy, ty, ax, colors=['b']):\n",
    "    ax.plot(x, vy, 'b', label=\"Validation Loss\")\n",
    "    ax.plot(x, ty, 'r', label=\"Train Loss\")\n",
    "    plt.legend()\n",
    "    plt.grid()\n",
    "    fig.canvas.draw()\n",
    " "
   ]
  },
  {
   "cell_type": "code",
   "execution_count": 6,
   "metadata": {
    "colab": {
     "base_uri": "https://localhost:8080/",
     "height": 53
    },
    "colab_type": "code",
    "id": "bci8EXltAm0i",
    "outputId": "ef4b39f0-d424-44de-bf2c-c85770926304"
   },
   "outputs": [
    {
     "name": "stdout",
     "output_type": "stream",
     "text": [
      "Downloading data from https://s3.amazonaws.com/img-datasets/mnist.npz\n",
      "11493376/11490434 [==============================] - 1s 0us/step\n"
     ]
    }
   ],
   "source": [
    "# spliting Data in train and test randomly\n",
    "(X_train, y_train), (X_test, y_test) = mnist.load_data()"
   ]
  },
  {
   "cell_type": "code",
   "execution_count": 8,
   "metadata": {
    "colab": {
     "base_uri": "https://localhost:8080/",
     "height": 53
    },
    "colab_type": "code",
    "id": "vU3X_OvjAyRI",
    "outputId": "e36fbfd1-86ff-471e-bf92-f61675b6011d"
   },
   "outputs": [
    {
     "name": "stdout",
     "output_type": "stream",
     "text": [
      "Number of training examples : 60000 and each image is of shape (28, 28)\n",
      "Number of training examples : 10000 and each image is of shape (28, 28)\n"
     ]
    }
   ],
   "source": [
    "print(\"Number of training examples :\", X_train.shape[0], \"and each image is of shape (%d, %d)\"%(X_train.shape[1], X_train.shape[2]))\n",
    "print(\"Number of training examples :\", X_test.shape[0], \"and each image is of shape (%d, %d)\"%(X_test.shape[1], X_test.shape[2]))"
   ]
  },
  {
   "cell_type": "code",
   "execution_count": 9,
   "metadata": {
    "colab": {
     "base_uri": "https://localhost:8080/",
     "height": 53
    },
    "colab_type": "code",
    "id": "5g0TQTyOBX4g",
    "outputId": "b4842d4f-8d1e-44d2-a049-08b6d6537aef"
   },
   "outputs": [
    {
     "name": "stdout",
     "output_type": "stream",
     "text": [
      "Number of training examples : 60000 and each image is of shape (784)\n",
      "Number of training examples : 10000 and each image is of shape (784)\n"
     ]
    }
   ],
   "source": [
    "# Converting 3D data to 2D\n",
    "X_train = X_train.reshape(X_train.shape[0], X_train.shape[1]*X_train.shape[2]) \n",
    "X_test = X_test.reshape(X_test.shape[0], X_test.shape[1]*X_test.shape[2]) \n",
    "\n",
    "print(\"Number of training examples :\", X_train.shape[0], \"and each image is of shape (%d)\"%(X_train.shape[1]))\n",
    "print(\"Number of training examples :\", X_test.shape[0], \"and each image is of shape (%d)\"%(X_test.shape[1]))"
   ]
  },
  {
   "cell_type": "code",
   "execution_count": 0,
   "metadata": {
    "colab": {},
    "colab_type": "code",
    "id": "lXPCAKaJBmsf"
   },
   "outputs": [],
   "source": [
    "# normalizing data\n",
    "X_train = X_train/255\n",
    "X_test = X_test/255"
   ]
  },
  {
   "cell_type": "code",
   "execution_count": 0,
   "metadata": {
    "colab": {},
    "colab_type": "code",
    "id": "WVxd6aYEB1vy"
   },
   "outputs": [],
   "source": [
    "#converting output to categorical\n",
    "Y_train = np_utils.to_categorical(y_train, 10) \n",
    "Y_test = np_utils.to_categorical(y_test, 10)"
   ]
  },
  {
   "cell_type": "code",
   "execution_count": 0,
   "metadata": {
    "colab": {},
    "colab_type": "code",
    "id": "bGBBAHUPDWuU"
   },
   "outputs": [],
   "source": [
    "# some model parameters\n",
    "from keras.layers import Dropout\n",
    "from keras.layers.normalization import BatchNormalization\n",
    "output_dim = 10\n",
    "input_dim = X_train.shape[1]\n",
    "\n",
    "batch_size = 128 \n",
    "nb_epoch = 20"
   ]
  },
  {
   "cell_type": "markdown",
   "metadata": {
    "colab_type": "text",
    "id": "nSdZ2SIED-Tf"
   },
   "source": [
    "<h2> MLP + ReLU + ADAM </h2>"
   ]
  },
  {
   "cell_type": "markdown",
   "metadata": {
    "colab_type": "text",
    "id": "VNTlm9ObFBmv"
   },
   "source": [
    "<h3> 2 Layer Architecture </h3>"
   ]
  },
  {
   "cell_type": "markdown",
   "metadata": {
    "colab_type": "text",
    "id": "z3j-8IUmFPbZ"
   },
   "source": [
    "T1 : H1 = 375, H2 = 75"
   ]
  },
  {
   "cell_type": "code",
   "execution_count": 14,
   "metadata": {
    "colab": {
     "base_uri": "https://localhost:8080/",
     "height": 1164
    },
    "colab_type": "code",
    "id": "ltHHsnYpD2jp",
    "outputId": "4cca1380-2319-4c1f-d0c9-587899320a27"
   },
   "outputs": [
    {
     "name": "stdout",
     "output_type": "stream",
     "text": [
      "_________________________________________________________________\n",
      "Layer (type)                 Output Shape              Param #   \n",
      "=================================================================\n",
      "dense_4 (Dense)              (None, 375)               294375    \n",
      "_________________________________________________________________\n",
      "batch_normalization_3 (Batch (None, 375)               1500      \n",
      "_________________________________________________________________\n",
      "dropout_3 (Dropout)          (None, 375)               0         \n",
      "_________________________________________________________________\n",
      "dense_5 (Dense)              (None, 75)                28200     \n",
      "_________________________________________________________________\n",
      "batch_normalization_4 (Batch (None, 75)                300       \n",
      "_________________________________________________________________\n",
      "dropout_4 (Dropout)          (None, 75)                0         \n",
      "_________________________________________________________________\n",
      "dense_6 (Dense)              (None, 10)                760       \n",
      "=================================================================\n",
      "Total params: 325,135\n",
      "Trainable params: 324,235\n",
      "Non-trainable params: 900\n",
      "_________________________________________________________________\n",
      "None\n",
      "Train on 60000 samples, validate on 10000 samples\n",
      "Epoch 1/20\n",
      "60000/60000 [==============================] - 7s 110us/step - loss: 0.5574 - acc: 0.8309 - val_loss: 0.1714 - val_acc: 0.9477\n",
      "Epoch 2/20\n",
      "60000/60000 [==============================] - 6s 98us/step - loss: 0.2662 - acc: 0.9220 - val_loss: 0.1214 - val_acc: 0.9612\n",
      "Epoch 3/20\n",
      "60000/60000 [==============================] - 6s 100us/step - loss: 0.2069 - acc: 0.9384 - val_loss: 0.1090 - val_acc: 0.9657\n",
      "Epoch 4/20\n",
      "60000/60000 [==============================] - 6s 98us/step - loss: 0.1766 - acc: 0.9472 - val_loss: 0.0935 - val_acc: 0.9727\n",
      "Epoch 5/20\n",
      "60000/60000 [==============================] - 6s 98us/step - loss: 0.1536 - acc: 0.9549 - val_loss: 0.0916 - val_acc: 0.9723\n",
      "Epoch 6/20\n",
      "60000/60000 [==============================] - 6s 100us/step - loss: 0.1390 - acc: 0.9587 - val_loss: 0.0840 - val_acc: 0.9748\n",
      "Epoch 7/20\n",
      "60000/60000 [==============================] - 6s 101us/step - loss: 0.1296 - acc: 0.9611 - val_loss: 0.0734 - val_acc: 0.9783\n",
      "Epoch 8/20\n",
      "60000/60000 [==============================] - 6s 98us/step - loss: 0.1183 - acc: 0.9646 - val_loss: 0.0752 - val_acc: 0.9768\n",
      "Epoch 9/20\n",
      "60000/60000 [==============================] - 6s 100us/step - loss: 0.1106 - acc: 0.9666 - val_loss: 0.0709 - val_acc: 0.9789\n",
      "Epoch 10/20\n",
      "60000/60000 [==============================] - 6s 100us/step - loss: 0.1018 - acc: 0.9688 - val_loss: 0.0723 - val_acc: 0.9787\n",
      "Epoch 11/20\n",
      "60000/60000 [==============================] - 6s 100us/step - loss: 0.0949 - acc: 0.9711 - val_loss: 0.0701 - val_acc: 0.9792\n",
      "Epoch 12/20\n",
      "60000/60000 [==============================] - 6s 99us/step - loss: 0.0919 - acc: 0.9718 - val_loss: 0.0680 - val_acc: 0.9797\n",
      "Epoch 13/20\n",
      "60000/60000 [==============================] - 6s 99us/step - loss: 0.0893 - acc: 0.9727 - val_loss: 0.0659 - val_acc: 0.9800\n",
      "Epoch 14/20\n",
      "60000/60000 [==============================] - 6s 100us/step - loss: 0.0843 - acc: 0.9743 - val_loss: 0.0649 - val_acc: 0.9811\n",
      "Epoch 15/20\n",
      "60000/60000 [==============================] - 6s 100us/step - loss: 0.0823 - acc: 0.9750 - val_loss: 0.0643 - val_acc: 0.9808\n",
      "Epoch 16/20\n",
      "60000/60000 [==============================] - 6s 99us/step - loss: 0.0775 - acc: 0.9766 - val_loss: 0.0604 - val_acc: 0.9818\n",
      "Epoch 17/20\n",
      "60000/60000 [==============================] - 6s 99us/step - loss: 0.0771 - acc: 0.9757 - val_loss: 0.0653 - val_acc: 0.9811\n",
      "Epoch 18/20\n",
      "60000/60000 [==============================] - 6s 98us/step - loss: 0.0731 - acc: 0.9774 - val_loss: 0.0669 - val_acc: 0.9809\n",
      "Epoch 19/20\n",
      "60000/60000 [==============================] - 6s 108us/step - loss: 0.0732 - acc: 0.9773 - val_loss: 0.0627 - val_acc: 0.9824\n",
      "Epoch 20/20\n",
      "60000/60000 [==============================] - 6s 104us/step - loss: 0.0678 - acc: 0.9792 - val_loss: 0.0651 - val_acc: 0.9829\n"
     ]
    }
   ],
   "source": [
    "model_relu = Sequential()\n",
    "model_relu.add(Dense(375, activation='relu', input_shape=(input_dim,), kernel_initializer=RandomNormal(mean=0.0, stddev=0.062, seed=None)))\n",
    "model_relu.add(BatchNormalization())\n",
    "model_relu.add(Dropout(0.5))\n",
    "\n",
    "model_relu.add(Dense(75, activation='relu', kernel_initializer=RandomNormal(mean=0.0, stddev=0.125, seed=None)) )\n",
    "model_relu.add(BatchNormalization())\n",
    "model_relu.add(Dropout(0.5))\n",
    "\n",
    "model_relu.add(Dense(output_dim, activation='softmax'))\n",
    "\n",
    "print(model_relu.summary())\n",
    "\n",
    "model_relu.compile(optimizer='adam', loss='categorical_crossentropy', metrics=['accuracy'])\n",
    "\n",
    "history = model_relu.fit(X_train, Y_train, batch_size=batch_size, epochs=nb_epoch, verbose=1, validation_data=(X_test, Y_test))"
   ]
  },
  {
   "cell_type": "code",
   "execution_count": 15,
   "metadata": {
    "colab": {
     "base_uri": "https://localhost:8080/",
     "height": 315
    },
    "colab_type": "code",
    "id": "DAMHfpPjFBND",
    "outputId": "5297454c-6bbc-42a4-9e88-c6b25460b5cb"
   },
   "outputs": [
    {
     "name": "stdout",
     "output_type": "stream",
     "text": [
      "Test score: 0.06514618580028182\n",
      "Test accuracy: 0.9829\n"
     ]
    },
    {
     "data": {
      "image/png": "[encoded data removed]",
      "text/plain": [
       "<Figure size 432x288 with 1 Axes>"
      ]
     },
     "metadata": {
      "tags": []
     },
     "output_type": "display_data"
    }
   ],
   "source": [
    "score = model_relu.evaluate(X_test, Y_test, verbose=0) \n",
    "print('Test score:', score[0]) \n",
    "print('Test accuracy:', score[1])\n",
    "\n",
    "fig,ax = plt.subplots(1,1)\n",
    "ax.set_xlabel('epoch') ; ax.set_ylabel('Categorical Crossentropy Loss')\n",
    "\n",
    "# list of epoch numbers\n",
    "x = list(range(1,nb_epoch+1))\n",
    "\n",
    "vy = history.history['val_loss']\n",
    "ty = history.history['loss']\n",
    "plt_dynamic(x, vy, ty, ax)"
   ]
  },
  {
   "cell_type": "markdown",
   "metadata": {
    "colab_type": "text",
    "id": "A8YP0IhYKmyB"
   },
   "source": [
    "T2 : H1 = 450 , H2 = 150"
   ]
  },
  {
   "cell_type": "code",
   "execution_count": 16,
   "metadata": {
    "colab": {
     "base_uri": "https://localhost:8080/",
     "height": 1164
    },
    "colab_type": "code",
    "id": "poTQGAPmD8oY",
    "outputId": "4acb19ed-460a-4208-f2a8-0f4445acc12c"
   },
   "outputs": [
    {
     "name": "stdout",
     "output_type": "stream",
     "text": [
      "_________________________________________________________________\n",
      "Layer (type)                 Output Shape              Param #   \n",
      "=================================================================\n",
      "dense_7 (Dense)              (None, 450)               353250    \n",
      "_________________________________________________________________\n",
      "batch_normalization_5 (Batch (None, 450)               1800      \n",
      "_________________________________________________________________\n",
      "dropout_5 (Dropout)          (None, 450)               0         \n",
      "_________________________________________________________________\n",
      "dense_8 (Dense)              (None, 120)               54120     \n",
      "_________________________________________________________________\n",
      "batch_normalization_6 (Batch (None, 120)               480       \n",
      "_________________________________________________________________\n",
      "dropout_6 (Dropout)          (None, 120)               0         \n",
      "_________________________________________________________________\n",
      "dense_9 (Dense)              (None, 10)                1210      \n",
      "=================================================================\n",
      "Total params: 410,860\n",
      "Trainable params: 409,720\n",
      "Non-trainable params: 1,140\n",
      "_________________________________________________________________\n",
      "None\n",
      "Train on 60000 samples, validate on 10000 samples\n",
      "Epoch 1/20\n",
      "60000/60000 [==============================] - 8s 136us/step - loss: 0.4949 - acc: 0.8501 - val_loss: 0.1544 - val_acc: 0.9515\n",
      "Epoch 2/20\n",
      "60000/60000 [==============================] - 7s 122us/step - loss: 0.2378 - acc: 0.9286 - val_loss: 0.1184 - val_acc: 0.9628\n",
      "Epoch 3/20\n",
      "60000/60000 [==============================] - 7s 121us/step - loss: 0.1823 - acc: 0.9453 - val_loss: 0.0997 - val_acc: 0.9688\n",
      "Epoch 4/20\n",
      "60000/60000 [==============================] - 7s 120us/step - loss: 0.1556 - acc: 0.9533 - val_loss: 0.0875 - val_acc: 0.9711\n",
      "Epoch 5/20\n",
      "60000/60000 [==============================] - 7s 122us/step - loss: 0.1351 - acc: 0.9592 - val_loss: 0.0788 - val_acc: 0.9757\n",
      "Epoch 6/20\n",
      "60000/60000 [==============================] - 7s 121us/step - loss: 0.1221 - acc: 0.9632 - val_loss: 0.0763 - val_acc: 0.9762\n",
      "Epoch 7/20\n",
      "60000/60000 [==============================] - 7s 123us/step - loss: 0.1141 - acc: 0.9652 - val_loss: 0.0727 - val_acc: 0.9763\n",
      "Epoch 8/20\n",
      "60000/60000 [==============================] - 7s 121us/step - loss: 0.1010 - acc: 0.9688 - val_loss: 0.0667 - val_acc: 0.9789\n",
      "Epoch 9/20\n",
      "60000/60000 [==============================] - 7s 123us/step - loss: 0.0931 - acc: 0.9713 - val_loss: 0.0643 - val_acc: 0.9795\n",
      "Epoch 10/20\n",
      "60000/60000 [==============================] - 8s 125us/step - loss: 0.0887 - acc: 0.9733 - val_loss: 0.0617 - val_acc: 0.9787\n",
      "Epoch 11/20\n",
      "60000/60000 [==============================] - 7s 123us/step - loss: 0.0854 - acc: 0.9730 - val_loss: 0.0655 - val_acc: 0.9798\n",
      "Epoch 12/20\n",
      "60000/60000 [==============================] - 7s 123us/step - loss: 0.0809 - acc: 0.9742 - val_loss: 0.0637 - val_acc: 0.9810\n",
      "Epoch 13/20\n",
      "60000/60000 [==============================] - 7s 124us/step - loss: 0.0770 - acc: 0.9754 - val_loss: 0.0640 - val_acc: 0.9809\n",
      "Epoch 14/20\n",
      "60000/60000 [==============================] - 8s 127us/step - loss: 0.0729 - acc: 0.9772 - val_loss: 0.0657 - val_acc: 0.9803\n",
      "Epoch 15/20\n",
      "60000/60000 [==============================] - 8s 125us/step - loss: 0.0691 - acc: 0.9783 - val_loss: 0.0623 - val_acc: 0.9815\n",
      "Epoch 16/20\n",
      "60000/60000 [==============================] - 7s 123us/step - loss: 0.0703 - acc: 0.9783 - val_loss: 0.0586 - val_acc: 0.9822\n",
      "Epoch 17/20\n",
      "60000/60000 [==============================] - 7s 123us/step - loss: 0.0621 - acc: 0.9803 - val_loss: 0.0572 - val_acc: 0.9824\n",
      "Epoch 18/20\n",
      "60000/60000 [==============================] - 7s 122us/step - loss: 0.0599 - acc: 0.9815 - val_loss: 0.0571 - val_acc: 0.9830\n",
      "Epoch 19/20\n",
      "60000/60000 [==============================] - 7s 122us/step - loss: 0.0618 - acc: 0.9797 - val_loss: 0.0591 - val_acc: 0.9826\n",
      "Epoch 20/20\n",
      "60000/60000 [==============================] - 7s 122us/step - loss: 0.0579 - acc: 0.9821 - val_loss: 0.0580 - val_acc: 0.9839\n"
     ]
    }
   ],
   "source": [
    "model_relu1 = Sequential()\n",
    "model_relu1.add(Dense(450, activation='relu', input_shape=(input_dim,), kernel_initializer=RandomNormal(mean=0.0, stddev=0.062, seed=None)))\n",
    "model_relu1.add(BatchNormalization())\n",
    "model_relu1.add(Dropout(0.5))\n",
    "\n",
    "model_relu1.add(Dense(120, activation='relu', kernel_initializer=RandomNormal(mean=0.0, stddev=0.125, seed=None)) )\n",
    "model_relu1.add(BatchNormalization())\n",
    "model_relu1.add(Dropout(0.5))\n",
    "\n",
    "model_relu1.add(Dense(output_dim, activation='softmax'))\n",
    "\n",
    "print(model_relu1.summary())\n",
    "\n",
    "model_relu1.compile(optimizer='adam', loss='categorical_crossentropy', metrics=['accuracy'])\n",
    "\n",
    "history = model_relu1.fit(X_train, Y_train, batch_size=batch_size, epochs=nb_epoch, verbose=1, validation_data=(X_test, Y_test))"
   ]
  },
  {
   "cell_type": "code",
   "execution_count": 17,
   "metadata": {
    "colab": {
     "base_uri": "https://localhost:8080/",
     "height": 315
    },
    "colab_type": "code",
    "id": "bSmqSk0VLomb",
    "outputId": "95d50877-1d30-4953-854e-8edad6fac787"
   },
   "outputs": [
    {
     "name": "stdout",
     "output_type": "stream",
     "text": [
      "Test score: 0.05803709232400288\n",
      "Test accuracy: 0.9839\n"
     ]
    },
    {
     "data": {
      "image/png": "[encoded data removed]",
      "text/plain": [
       "<Figure size 432x288 with 1 Axes>"
      ]
     },
     "metadata": {
      "tags": []
     },
     "output_type": "display_data"
    }
   ],
   "source": [
    "score = model_relu1.evaluate(X_test, Y_test, verbose=0) \n",
    "print('Test score:', score[0]) \n",
    "print('Test accuracy:', score[1])\n",
    "\n",
    "fig,ax = plt.subplots(1,1)\n",
    "ax.set_xlabel('epoch') ; ax.set_ylabel('Categorical Crossentropy Loss')\n",
    "\n",
    "# list of epoch numbers\n",
    "x = list(range(1,nb_epoch+1))\n",
    "\n",
    "vy = history.history['val_loss']\n",
    "ty = history.history['loss']\n",
    "plt_dynamic(x, vy, ty, ax)"
   ]
  },
  {
   "cell_type": "markdown",
   "metadata": {
    "colab_type": "text",
    "id": "rh-OjTWVhYO0"
   },
   "source": [
    "<h3> 3 Layer Architecture </h3>"
   ]
  },
  {
   "cell_type": "markdown",
   "metadata": {
    "colab_type": "text",
    "id": "qfV79biRhfnI"
   },
   "source": [
    "T1 : H1 = 475, H2 = 275,H3 = 75"
   ]
  },
  {
   "cell_type": "code",
   "execution_count": 18,
   "metadata": {
    "colab": {
     "base_uri": "https://localhost:8080/",
     "height": 1273
    },
    "colab_type": "code",
    "id": "L3-JOlA9QfHh",
    "outputId": "3c34da2d-9302-4df7-ab29-d468f2153e81"
   },
   "outputs": [
    {
     "name": "stdout",
     "output_type": "stream",
     "text": [
      "_________________________________________________________________\n",
      "Layer (type)                 Output Shape              Param #   \n",
      "=================================================================\n",
      "dense_10 (Dense)             (None, 475)               372875    \n",
      "_________________________________________________________________\n",
      "batch_normalization_7 (Batch (None, 475)               1900      \n",
      "_________________________________________________________________\n",
      "dropout_7 (Dropout)          (None, 475)               0         \n",
      "_________________________________________________________________\n",
      "dense_11 (Dense)             (None, 275)               130900    \n",
      "_________________________________________________________________\n",
      "batch_normalization_8 (Batch (None, 275)               1100      \n",
      "_________________________________________________________________\n",
      "dropout_8 (Dropout)          (None, 275)               0         \n",
      "_________________________________________________________________\n",
      "dense_12 (Dense)             (None, 75)                20700     \n",
      "_________________________________________________________________\n",
      "batch_normalization_9 (Batch (None, 75)                300       \n",
      "_________________________________________________________________\n",
      "dropout_9 (Dropout)          (None, 75)                0         \n",
      "_________________________________________________________________\n",
      "dense_13 (Dense)             (None, 10)                760       \n",
      "=================================================================\n",
      "Total params: 528,535\n",
      "Trainable params: 526,885\n",
      "Non-trainable params: 1,650\n",
      "_________________________________________________________________\n",
      "None\n",
      "Train on 60000 samples, validate on 10000 samples\n",
      "Epoch 1/20\n",
      "60000/60000 [==============================] - 11s 184us/step - loss: 0.6483 - acc: 0.8018 - val_loss: 0.1850 - val_acc: 0.9433\n",
      "Epoch 2/20\n",
      "60000/60000 [==============================] - 10s 161us/step - loss: 0.2843 - acc: 0.9184 - val_loss: 0.1313 - val_acc: 0.9598\n",
      "Epoch 3/20\n",
      "60000/60000 [==============================] - 10s 160us/step - loss: 0.2117 - acc: 0.9387 - val_loss: 0.1033 - val_acc: 0.9689\n",
      "Epoch 4/20\n",
      "60000/60000 [==============================] - 10s 161us/step - loss: 0.1746 - acc: 0.9491 - val_loss: 0.0919 - val_acc: 0.9723\n",
      "Epoch 5/20\n",
      "60000/60000 [==============================] - 10s 162us/step - loss: 0.1531 - acc: 0.9547 - val_loss: 0.0901 - val_acc: 0.9728\n",
      "Epoch 6/20\n",
      "60000/60000 [==============================] - 10s 162us/step - loss: 0.1408 - acc: 0.9586 - val_loss: 0.0799 - val_acc: 0.9758\n",
      "Epoch 7/20\n",
      "60000/60000 [==============================] - 10s 161us/step - loss: 0.1258 - acc: 0.9638 - val_loss: 0.0769 - val_acc: 0.9775\n",
      "Epoch 8/20\n",
      "60000/60000 [==============================] - 10s 161us/step - loss: 0.1194 - acc: 0.9649 - val_loss: 0.0776 - val_acc: 0.9780\n",
      "Epoch 9/20\n",
      "60000/60000 [==============================] - 10s 160us/step - loss: 0.1089 - acc: 0.9682 - val_loss: 0.0729 - val_acc: 0.9791\n",
      "Epoch 10/20\n",
      "60000/60000 [==============================] - 10s 161us/step - loss: 0.1047 - acc: 0.9690 - val_loss: 0.0678 - val_acc: 0.9803\n",
      "Epoch 11/20\n",
      "60000/60000 [==============================] - 10s 162us/step - loss: 0.0992 - acc: 0.9713 - val_loss: 0.0659 - val_acc: 0.9803\n",
      "Epoch 12/20\n",
      "60000/60000 [==============================] - 10s 162us/step - loss: 0.0946 - acc: 0.9722 - val_loss: 0.0725 - val_acc: 0.9790\n",
      "Epoch 13/20\n",
      "60000/60000 [==============================] - 10s 160us/step - loss: 0.0916 - acc: 0.9728 - val_loss: 0.0635 - val_acc: 0.9821\n",
      "Epoch 14/20\n",
      "60000/60000 [==============================] - 10s 163us/step - loss: 0.0843 - acc: 0.9751 - val_loss: 0.0617 - val_acc: 0.9826\n",
      "Epoch 15/20\n",
      "60000/60000 [==============================] - 10s 162us/step - loss: 0.0792 - acc: 0.9768 - val_loss: 0.0569 - val_acc: 0.9845\n",
      "Epoch 16/20\n",
      "60000/60000 [==============================] - 10s 171us/step - loss: 0.0751 - acc: 0.9775 - val_loss: 0.0634 - val_acc: 0.9830\n",
      "Epoch 17/20\n",
      "60000/60000 [==============================] - 10s 164us/step - loss: 0.0736 - acc: 0.9777 - val_loss: 0.0578 - val_acc: 0.9840\n",
      "Epoch 18/20\n",
      "60000/60000 [==============================] - 10s 161us/step - loss: 0.0715 - acc: 0.9784 - val_loss: 0.0625 - val_acc: 0.9825\n",
      "Epoch 19/20\n",
      "60000/60000 [==============================] - 10s 159us/step - loss: 0.0693 - acc: 0.9790 - val_loss: 0.0612 - val_acc: 0.9832\n",
      "Epoch 20/20\n",
      "60000/60000 [==============================] - 10s 159us/step - loss: 0.0695 - acc: 0.9792 - val_loss: 0.0601 - val_acc: 0.9830\n"
     ]
    }
   ],
   "source": [
    "model_relu3a = Sequential()\n",
    "model_relu3a.add(Dense(475, activation='relu', input_shape=(input_dim,), kernel_initializer=RandomNormal(mean=0.0, stddev=0.062, seed=None)))\n",
    "model_relu3a.add(BatchNormalization())\n",
    "model_relu3a.add(Dropout(0.5))\n",
    "\n",
    "model_relu3a.add(Dense(275, activation='relu', input_shape=(input_dim,), kernel_initializer=RandomNormal(mean=0.0, stddev=0.062, seed=None)))\n",
    "model_relu3a.add(BatchNormalization())\n",
    "model_relu3a.add(Dropout(0.5))\n",
    "\n",
    "model_relu3a.add(Dense(75, activation='relu', kernel_initializer=RandomNormal(mean=0.0, stddev=0.125, seed=None)) )\n",
    "model_relu3a.add(BatchNormalization())\n",
    "model_relu3a.add(Dropout(0.5))\n",
    "\n",
    "model_relu3a.add(Dense(output_dim, activation='softmax'))\n",
    "\n",
    "print(model_relu3a.summary())\n",
    "\n",
    "model_relu3a.compile(optimizer='adam', loss='categorical_crossentropy', metrics=['accuracy'])\n",
    "\n",
    "history = model_relu3a.fit(X_train, Y_train, batch_size=batch_size, epochs=nb_epoch, verbose=1, validation_data=(X_test, Y_test))"
   ]
  },
  {
   "cell_type": "code",
   "execution_count": 19,
   "metadata": {
    "colab": {
     "base_uri": "https://localhost:8080/",
     "height": 315
    },
    "colab_type": "code",
    "id": "0IyR2CLhkq9b",
    "outputId": "b732bb5c-6a26-421b-df4d-898273a36fad"
   },
   "outputs": [
    {
     "name": "stdout",
     "output_type": "stream",
     "text": [
      "Test score: 0.060095479226729365\n",
      "Test accuracy: 0.983\n"
     ]
    },
    {
     "data": {
      "image/png": "[encoded data removed]",
      "text/plain": [
       "<Figure size 432x288 with 1 Axes>"
      ]
     },
     "metadata": {
      "tags": []
     },
     "output_type": "display_data"
    }
   ],
   "source": [
    "score = model_relu3a.evaluate(X_test, Y_test, verbose=0) \n",
    "print('Test score:', score[0]) \n",
    "print('Test accuracy:', score[1])\n",
    "\n",
    "fig,ax = plt.subplots(1,1)\n",
    "ax.set_xlabel('epoch') ; ax.set_ylabel('Categorical Crossentropy Loss')\n",
    "\n",
    "# list of epoch numbers\n",
    "x = list(range(1,nb_epoch+1))\n",
    "\n",
    "vy = history.history['val_loss']\n",
    "ty = history.history['loss']\n",
    "plt_dynamic(x, vy, ty, ax)"
   ]
  },
  {
   "cell_type": "markdown",
   "metadata": {
    "colab_type": "text",
    "id": "oO7qTt3wlLa8"
   },
   "source": [
    "T2 : H1 = 375, H2 = 165,H3 = 55"
   ]
  },
  {
   "cell_type": "code",
   "execution_count": 20,
   "metadata": {
    "colab": {
     "base_uri": "https://localhost:8080/",
     "height": 1273
    },
    "colab_type": "code",
    "id": "ycLKf8yTlIDE",
    "outputId": "a04f1b4b-35b8-4f7a-e820-7aa8bc6cf919"
   },
   "outputs": [
    {
     "name": "stdout",
     "output_type": "stream",
     "text": [
      "_________________________________________________________________\n",
      "Layer (type)                 Output Shape              Param #   \n",
      "=================================================================\n",
      "dense_14 (Dense)             (None, 375)               294375    \n",
      "_________________________________________________________________\n",
      "batch_normalization_10 (Batc (None, 375)               1500      \n",
      "_________________________________________________________________\n",
      "dropout_10 (Dropout)         (None, 375)               0         \n",
      "_________________________________________________________________\n",
      "dense_15 (Dense)             (None, 165)               62040     \n",
      "_________________________________________________________________\n",
      "batch_normalization_11 (Batc (None, 165)               660       \n",
      "_________________________________________________________________\n",
      "dropout_11 (Dropout)         (None, 165)               0         \n",
      "_________________________________________________________________\n",
      "dense_16 (Dense)             (None, 55)                9130      \n",
      "_________________________________________________________________\n",
      "batch_normalization_12 (Batc (None, 55)                220       \n",
      "_________________________________________________________________\n",
      "dropout_12 (Dropout)         (None, 55)                0         \n",
      "_________________________________________________________________\n",
      "dense_17 (Dense)             (None, 10)                560       \n",
      "=================================================================\n",
      "Total params: 368,485\n",
      "Trainable params: 367,295\n",
      "Non-trainable params: 1,190\n",
      "_________________________________________________________________\n",
      "None\n",
      "Train on 60000 samples, validate on 10000 samples\n",
      "Epoch 1/20\n",
      "60000/60000 [==============================] - 9s 145us/step - loss: 0.7304 - acc: 0.7783 - val_loss: 0.1910 - val_acc: 0.9415\n",
      "Epoch 2/20\n",
      "60000/60000 [==============================] - 7s 118us/step - loss: 0.3139 - acc: 0.9126 - val_loss: 0.1395 - val_acc: 0.9592\n",
      "Epoch 3/20\n",
      "60000/60000 [==============================] - 7s 118us/step - loss: 0.2414 - acc: 0.9332 - val_loss: 0.1229 - val_acc: 0.9639\n",
      "Epoch 4/20\n",
      "60000/60000 [==============================] - 7s 120us/step - loss: 0.2011 - acc: 0.9450 - val_loss: 0.1026 - val_acc: 0.9699\n",
      "Epoch 5/20\n",
      "60000/60000 [==============================] - 7s 121us/step - loss: 0.1731 - acc: 0.9522 - val_loss: 0.0887 - val_acc: 0.9749\n",
      "Epoch 6/20\n",
      "60000/60000 [==============================] - 7s 120us/step - loss: 0.1556 - acc: 0.9570 - val_loss: 0.0950 - val_acc: 0.9718\n",
      "Epoch 7/20\n",
      "60000/60000 [==============================] - 7s 120us/step - loss: 0.1455 - acc: 0.9586 - val_loss: 0.0861 - val_acc: 0.9754\n",
      "Epoch 8/20\n",
      "60000/60000 [==============================] - 7s 123us/step - loss: 0.1339 - acc: 0.9627 - val_loss: 0.0818 - val_acc: 0.9774\n",
      "Epoch 9/20\n",
      "60000/60000 [==============================] - 7s 119us/step - loss: 0.1285 - acc: 0.9644 - val_loss: 0.0772 - val_acc: 0.9784\n",
      "Epoch 10/20\n",
      "60000/60000 [==============================] - 7s 119us/step - loss: 0.1184 - acc: 0.9670 - val_loss: 0.0720 - val_acc: 0.9793\n",
      "Epoch 11/20\n",
      "60000/60000 [==============================] - 7s 119us/step - loss: 0.1131 - acc: 0.9684 - val_loss: 0.0742 - val_acc: 0.9795\n",
      "Epoch 12/20\n",
      "60000/60000 [==============================] - 7s 120us/step - loss: 0.1068 - acc: 0.9697 - val_loss: 0.0718 - val_acc: 0.9781\n",
      "Epoch 13/20\n",
      "60000/60000 [==============================] - 7s 118us/step - loss: 0.1010 - acc: 0.9718 - val_loss: 0.0690 - val_acc: 0.9813\n",
      "Epoch 14/20\n",
      "60000/60000 [==============================] - 7s 119us/step - loss: 0.0966 - acc: 0.9729 - val_loss: 0.0684 - val_acc: 0.9810\n",
      "Epoch 15/20\n",
      "60000/60000 [==============================] - 7s 120us/step - loss: 0.0950 - acc: 0.9727 - val_loss: 0.0694 - val_acc: 0.9807\n",
      "Epoch 16/20\n",
      "60000/60000 [==============================] - 7s 119us/step - loss: 0.0903 - acc: 0.9744 - val_loss: 0.0666 - val_acc: 0.9813\n",
      "Epoch 17/20\n",
      "60000/60000 [==============================] - 7s 119us/step - loss: 0.0893 - acc: 0.9746 - val_loss: 0.0674 - val_acc: 0.9806\n",
      "Epoch 18/20\n",
      "60000/60000 [==============================] - 7s 122us/step - loss: 0.0840 - acc: 0.9755 - val_loss: 0.0671 - val_acc: 0.9821\n",
      "Epoch 19/20\n",
      "60000/60000 [==============================] - 7s 119us/step - loss: 0.0827 - acc: 0.9764 - val_loss: 0.0642 - val_acc: 0.9828\n",
      "Epoch 20/20\n",
      "60000/60000 [==============================] - 7s 122us/step - loss: 0.0839 - acc: 0.9763 - val_loss: 0.0652 - val_acc: 0.9823\n"
     ]
    }
   ],
   "source": [
    "model_relu3b = Sequential()\n",
    "model_relu3b.add(Dense(375, activation='relu', input_shape=(input_dim,), kernel_initializer=RandomNormal(mean=0.0, stddev=0.062, seed=None)))\n",
    "model_relu3b.add(BatchNormalization())\n",
    "model_relu3b.add(Dropout(0.5))\n",
    "\n",
    "model_relu3b.add(Dense(165, activation='relu', input_shape=(input_dim,), kernel_initializer=RandomNormal(mean=0.0, stddev=0.062, seed=None)))\n",
    "model_relu3b.add(BatchNormalization())\n",
    "model_relu3b.add(Dropout(0.5))\n",
    "\n",
    "model_relu3b.add(Dense(55, activation='relu', kernel_initializer=RandomNormal(mean=0.0, stddev=0.125, seed=None)) )\n",
    "model_relu3b.add(BatchNormalization())\n",
    "model_relu3b.add(Dropout(0.5))\n",
    "\n",
    "model_relu3b.add(Dense(output_dim, activation='softmax'))\n",
    "\n",
    "print(model_relu3b.summary())\n",
    "\n",
    "model_relu3b.compile(optimizer='adam', loss='categorical_crossentropy', metrics=['accuracy'])\n",
    "\n",
    "history = model_relu3b.fit(X_train, Y_train, batch_size=batch_size, epochs=nb_epoch, verbose=1, validation_data=(X_test, Y_test))"
   ]
  },
  {
   "cell_type": "code",
   "execution_count": 21,
   "metadata": {
    "colab": {
     "base_uri": "https://localhost:8080/",
     "height": 315
    },
    "colab_type": "code",
    "id": "zk8xmD-tmnOX",
    "outputId": "b1b1275e-ed70-4719-fe1c-a4efafa2a59d"
   },
   "outputs": [
    {
     "name": "stdout",
     "output_type": "stream",
     "text": [
      "Test score: 0.06521012428215472\n",
      "Test accuracy: 0.9823\n"
     ]
    },
    {
     "data": {
      "image/png": "[encoded data removed]",
      "text/plain": [
       "<Figure size 432x288 with 1 Axes>"
      ]
     },
     "metadata": {
      "tags": []
     },
     "output_type": "display_data"
    }
   ],
   "source": [
    "score = model_relu3b.evaluate(X_test, Y_test, verbose=0) \n",
    "print('Test score:', score[0]) \n",
    "print('Test accuracy:', score[1])\n",
    "\n",
    "fig,ax = plt.subplots(1,1)\n",
    "ax.set_xlabel('epoch') ; ax.set_ylabel('Categorical Crossentropy Loss')\n",
    "\n",
    "# list of epoch numbers\n",
    "x = list(range(1,nb_epoch+1))\n",
    "\n",
    "vy = history.history['val_loss']\n",
    "ty = history.history['loss']\n",
    "plt_dynamic(x, vy, ty, ax)"
   ]
  },
  {
   "cell_type": "markdown",
   "metadata": {
    "colab_type": "text",
    "id": "cUIox2xLCRnM"
   },
   "source": [
    "<h3> 5 Layer Architecture </h3>"
   ]
  },
  {
   "cell_type": "markdown",
   "metadata": {
    "colab_type": "text",
    "id": "hzB7Kar7CxvF"
   },
   "source": [
    "T1 : H1=475, H2 = 350, H3 = 240, H4 = 123, H5=40"
   ]
  },
  {
   "cell_type": "code",
   "execution_count": 25,
   "metadata": {
    "colab": {
     "base_uri": "https://localhost:8080/",
     "height": 1491
    },
    "colab_type": "code",
    "id": "YoLhGX2amuKF",
    "outputId": "fe5cf1ba-5adf-4764-9cc3-dbd1b8f11571"
   },
   "outputs": [
    {
     "name": "stdout",
     "output_type": "stream",
     "text": [
      "_________________________________________________________________\n",
      "Layer (type)                 Output Shape              Param #   \n",
      "=================================================================\n",
      "dense_30 (Dense)             (None, 475)               372875    \n",
      "_________________________________________________________________\n",
      "batch_normalization_23 (Batc (None, 475)               1900      \n",
      "_________________________________________________________________\n",
      "dropout_23 (Dropout)         (None, 475)               0         \n",
      "_________________________________________________________________\n",
      "dense_31 (Dense)             (None, 350)               166600    \n",
      "_________________________________________________________________\n",
      "batch_normalization_24 (Batc (None, 350)               1400      \n",
      "_________________________________________________________________\n",
      "dropout_24 (Dropout)         (None, 350)               0         \n",
      "_________________________________________________________________\n",
      "dense_32 (Dense)             (None, 240)               84240     \n",
      "_________________________________________________________________\n",
      "batch_normalization_25 (Batc (None, 240)               960       \n",
      "_________________________________________________________________\n",
      "dropout_25 (Dropout)         (None, 240)               0         \n",
      "_________________________________________________________________\n",
      "dense_33 (Dense)             (None, 123)               29643     \n",
      "_________________________________________________________________\n",
      "batch_normalization_26 (Batc (None, 123)               492       \n",
      "_________________________________________________________________\n",
      "dropout_26 (Dropout)         (None, 123)               0         \n",
      "_________________________________________________________________\n",
      "dense_34 (Dense)             (None, 40)                4960      \n",
      "_________________________________________________________________\n",
      "batch_normalization_27 (Batc (None, 40)                160       \n",
      "_________________________________________________________________\n",
      "dropout_27 (Dropout)         (None, 40)                0         \n",
      "_________________________________________________________________\n",
      "dense_35 (Dense)             (None, 10)                410       \n",
      "=================================================================\n",
      "Total params: 663,640\n",
      "Trainable params: 661,184\n",
      "Non-trainable params: 2,456\n",
      "_________________________________________________________________\n",
      "None\n",
      "Train on 60000 samples, validate on 10000 samples\n",
      "Epoch 1/20\n",
      "60000/60000 [==============================] - 16s 268us/step - loss: 0.5673 - acc: 0.8254 - val_loss: 0.1652 - val_acc: 0.9500\n",
      "Epoch 2/20\n",
      "60000/60000 [==============================] - 14s 225us/step - loss: 0.2375 - acc: 0.9304 - val_loss: 0.1243 - val_acc: 0.9621\n",
      "Epoch 3/20\n",
      "60000/60000 [==============================] - 13s 218us/step - loss: 0.1893 - acc: 0.9438 - val_loss: 0.0974 - val_acc: 0.9695\n",
      "Epoch 4/20\n",
      "60000/60000 [==============================] - 13s 217us/step - loss: 0.1626 - acc: 0.9521 - val_loss: 0.0933 - val_acc: 0.9739\n",
      "Epoch 5/20\n",
      "60000/60000 [==============================] - 13s 216us/step - loss: 0.1437 - acc: 0.9573 - val_loss: 0.0818 - val_acc: 0.9756\n",
      "Epoch 6/20\n",
      "60000/60000 [==============================] - 13s 220us/step - loss: 0.1353 - acc: 0.9601 - val_loss: 0.0779 - val_acc: 0.9782\n",
      "Epoch 7/20\n",
      "60000/60000 [==============================] - 13s 218us/step - loss: 0.1209 - acc: 0.9641 - val_loss: 0.0749 - val_acc: 0.9775\n",
      "Epoch 8/20\n",
      "60000/60000 [==============================] - 13s 220us/step - loss: 0.1123 - acc: 0.9661 - val_loss: 0.0884 - val_acc: 0.9767\n",
      "Epoch 9/20\n",
      "60000/60000 [==============================] - 13s 220us/step - loss: 0.1082 - acc: 0.9674 - val_loss: 0.0738 - val_acc: 0.9790\n",
      "Epoch 10/20\n",
      "60000/60000 [==============================] - 13s 219us/step - loss: 0.0999 - acc: 0.9708 - val_loss: 0.0698 - val_acc: 0.9799\n",
      "Epoch 11/20\n",
      "60000/60000 [==============================] - 13s 219us/step - loss: 0.0917 - acc: 0.9721 - val_loss: 0.0669 - val_acc: 0.9816\n",
      "Epoch 12/20\n",
      "60000/60000 [==============================] - 13s 220us/step - loss: 0.0908 - acc: 0.9733 - val_loss: 0.0652 - val_acc: 0.9808\n",
      "Epoch 13/20\n",
      "60000/60000 [==============================] - 13s 218us/step - loss: 0.0870 - acc: 0.9743 - val_loss: 0.0645 - val_acc: 0.9817\n",
      "Epoch 14/20\n",
      "60000/60000 [==============================] - 13s 219us/step - loss: 0.0804 - acc: 0.9764 - val_loss: 0.0653 - val_acc: 0.9811\n",
      "Epoch 15/20\n",
      "60000/60000 [==============================] - 13s 219us/step - loss: 0.0793 - acc: 0.9759 - val_loss: 0.0581 - val_acc: 0.9832\n",
      "Epoch 16/20\n",
      "60000/60000 [==============================] - 13s 217us/step - loss: 0.0770 - acc: 0.9773 - val_loss: 0.0610 - val_acc: 0.9823\n",
      "Epoch 17/20\n",
      "60000/60000 [==============================] - 13s 218us/step - loss: 0.0744 - acc: 0.9780 - val_loss: 0.0585 - val_acc: 0.9835\n",
      "Epoch 18/20\n",
      "60000/60000 [==============================] - 13s 218us/step - loss: 0.0722 - acc: 0.9779 - val_loss: 0.0574 - val_acc: 0.9837\n",
      "Epoch 19/20\n",
      "60000/60000 [==============================] - 13s 220us/step - loss: 0.0675 - acc: 0.9796 - val_loss: 0.0571 - val_acc: 0.9845\n",
      "Epoch 20/20\n",
      "60000/60000 [==============================] - 13s 220us/step - loss: 0.0654 - acc: 0.9800 - val_loss: 0.0570 - val_acc: 0.9854\n"
     ]
    }
   ],
   "source": [
    "model_relu5a = Sequential()\n",
    "model_relu5a.add(Dense(475, activation='relu', input_shape=(input_dim,), kernel_initializer=RandomNormal(mean=0.0, stddev=0.062, seed=None)))\n",
    "model_relu5a.add(BatchNormalization())\n",
    "model_relu5a.add(Dropout(0.5))\n",
    "\n",
    "model_relu5a.add(Dense(350, activation='relu', input_shape=(input_dim,), kernel_initializer=RandomNormal(mean=0.0, stddev=0.062, seed=None)))\n",
    "model_relu5a.add(BatchNormalization())\n",
    "model_relu5a.add(Dropout(0.4))\n",
    "\n",
    "model_relu5a.add(Dense(240, activation='relu', input_shape=(input_dim,), kernel_initializer=RandomNormal(mean=0.0, stddev=0.062, seed=None)))\n",
    "model_relu5a.add(BatchNormalization())\n",
    "model_relu5a.add(Dropout(0.3))\n",
    "\n",
    "model_relu5a.add(Dense(123, activation='relu', input_shape=(input_dim,), kernel_initializer=RandomNormal(mean=0.0, stddev=0.062, seed=None)))\n",
    "model_relu5a.add(BatchNormalization())\n",
    "model_relu5a.add(Dropout(0.2))\n",
    "\n",
    "model_relu5a.add(Dense(40, activation='relu', kernel_initializer=RandomNormal(mean=0.0, stddev=0.125, seed=None)) )\n",
    "model_relu5a.add(BatchNormalization())\n",
    "model_relu5a.add(Dropout(0.1))\n",
    "\n",
    "model_relu5a.add(Dense(output_dim, activation='softmax'))\n",
    "\n",
    "print(model_relu5a.summary())\n",
    "\n",
    "model_relu5a.compile(optimizer='adam', loss='categorical_crossentropy', metrics=['accuracy'])\n",
    "\n",
    "history = model_relu5a.fit(X_train, Y_train, batch_size=batch_size, epochs=nb_epoch, verbose=1, validation_data=(X_test, Y_test))"
   ]
  },
  {
   "cell_type": "code",
   "execution_count": 26,
   "metadata": {
    "colab": {
     "base_uri": "https://localhost:8080/",
     "height": 315
    },
    "colab_type": "code",
    "id": "9ONZHG1owAYh",
    "outputId": "6208589a-821f-4038-b803-595b99221421"
   },
   "outputs": [
    {
     "name": "stdout",
     "output_type": "stream",
     "text": [
      "Test score: 0.056956459587812425\n",
      "Test accuracy: 0.9854\n"
     ]
    },
    {
     "data": {
      "image/png": "[encoded data removed]",
      "text/plain": [
       "<Figure size 432x288 with 1 Axes>"
      ]
     },
     "metadata": {
      "tags": []
     },
     "output_type": "display_data"
    }
   ],
   "source": [
    "score = model_relu5a.evaluate(X_test, Y_test, verbose=0) \n",
    "print('Test score:', score[0]) \n",
    "print('Test accuracy:', score[1])\n",
    "\n",
    "fig,ax = plt.subplots(1,1)\n",
    "ax.set_xlabel('epoch') ; ax.set_ylabel('Categorical Crossentropy Loss')\n",
    "\n",
    "# list of epoch numbers\n",
    "x = list(range(1,nb_epoch+1))\n",
    "\n",
    "vy = history.history['val_loss']\n",
    "ty = history.history['loss']\n",
    "plt_dynamic(x, vy, ty, ax)"
   ]
  },
  {
   "cell_type": "markdown",
   "metadata": {
    "colab_type": "text",
    "id": "oG6coyVjF0R3"
   },
   "source": [
    "T2 : H1=509, H2 = 382, H3 = 255, H4 = 136, H5=52"
   ]
  },
  {
   "cell_type": "code",
   "execution_count": 27,
   "metadata": {
    "colab": {
     "base_uri": "https://localhost:8080/",
     "height": 1491
    },
    "colab_type": "code",
    "id": "O2eW0FBhGCqE",
    "outputId": "882a3542-7710-4af4-aec9-1decd1990968"
   },
   "outputs": [
    {
     "name": "stdout",
     "output_type": "stream",
     "text": [
      "_________________________________________________________________\n",
      "Layer (type)                 Output Shape              Param #   \n",
      "=================================================================\n",
      "dense_36 (Dense)             (None, 475)               372875    \n",
      "_________________________________________________________________\n",
      "batch_normalization_28 (Batc (None, 475)               1900      \n",
      "_________________________________________________________________\n",
      "dropout_28 (Dropout)         (None, 475)               0         \n",
      "_________________________________________________________________\n",
      "dense_37 (Dense)             (None, 350)               166600    \n",
      "_________________________________________________________________\n",
      "batch_normalization_29 (Batc (None, 350)               1400      \n",
      "_________________________________________________________________\n",
      "dropout_29 (Dropout)         (None, 350)               0         \n",
      "_________________________________________________________________\n",
      "dense_38 (Dense)             (None, 240)               84240     \n",
      "_________________________________________________________________\n",
      "batch_normalization_30 (Batc (None, 240)               960       \n",
      "_________________________________________________________________\n",
      "dropout_30 (Dropout)         (None, 240)               0         \n",
      "_________________________________________________________________\n",
      "dense_39 (Dense)             (None, 123)               29643     \n",
      "_________________________________________________________________\n",
      "batch_normalization_31 (Batc (None, 123)               492       \n",
      "_________________________________________________________________\n",
      "dropout_31 (Dropout)         (None, 123)               0         \n",
      "_________________________________________________________________\n",
      "dense_40 (Dense)             (None, 40)                4960      \n",
      "_________________________________________________________________\n",
      "batch_normalization_32 (Batc (None, 40)                160       \n",
      "_________________________________________________________________\n",
      "dropout_32 (Dropout)         (None, 40)                0         \n",
      "_________________________________________________________________\n",
      "dense_41 (Dense)             (None, 10)                410       \n",
      "=================================================================\n",
      "Total params: 663,640\n",
      "Trainable params: 661,184\n",
      "Non-trainable params: 2,456\n",
      "_________________________________________________________________\n",
      "None\n",
      "Train on 60000 samples, validate on 10000 samples\n",
      "Epoch 1/20\n",
      "60000/60000 [==============================] - 16s 275us/step - loss: 0.5736 - acc: 0.8263 - val_loss: 0.1764 - val_acc: 0.9482\n",
      "Epoch 2/20\n",
      "60000/60000 [==============================] - 13s 219us/step - loss: 0.2403 - acc: 0.9285 - val_loss: 0.1189 - val_acc: 0.9650\n",
      "Epoch 3/20\n",
      "60000/60000 [==============================] - 13s 221us/step - loss: 0.1876 - acc: 0.9446 - val_loss: 0.1080 - val_acc: 0.9694\n",
      "Epoch 4/20\n",
      "60000/60000 [==============================] - 13s 221us/step - loss: 0.1610 - acc: 0.9526 - val_loss: 0.0954 - val_acc: 0.9726\n",
      "Epoch 5/20\n",
      "60000/60000 [==============================] - 13s 218us/step - loss: 0.1391 - acc: 0.9579 - val_loss: 0.0855 - val_acc: 0.9754\n",
      "Epoch 6/20\n",
      "60000/60000 [==============================] - 13s 214us/step - loss: 0.1269 - acc: 0.9625 - val_loss: 0.0824 - val_acc: 0.9758\n",
      "Epoch 7/20\n",
      "60000/60000 [==============================] - 13s 215us/step - loss: 0.1177 - acc: 0.9647 - val_loss: 0.0814 - val_acc: 0.9779\n",
      "Epoch 8/20\n",
      "60000/60000 [==============================] - 13s 219us/step - loss: 0.1136 - acc: 0.9659 - val_loss: 0.0761 - val_acc: 0.9780\n",
      "Epoch 9/20\n",
      "60000/60000 [==============================] - 13s 219us/step - loss: 0.1024 - acc: 0.9695 - val_loss: 0.0716 - val_acc: 0.9795\n",
      "Epoch 10/20\n",
      "60000/60000 [==============================] - 13s 222us/step - loss: 0.1008 - acc: 0.9698 - val_loss: 0.0679 - val_acc: 0.9807\n",
      "Epoch 11/20\n",
      "60000/60000 [==============================] - 13s 219us/step - loss: 0.0947 - acc: 0.9712 - val_loss: 0.0693 - val_acc: 0.9796\n",
      "Epoch 12/20\n",
      "60000/60000 [==============================] - 13s 217us/step - loss: 0.0857 - acc: 0.9744 - val_loss: 0.0679 - val_acc: 0.9809\n",
      "Epoch 13/20\n",
      "60000/60000 [==============================] - 13s 221us/step - loss: 0.0856 - acc: 0.9748 - val_loss: 0.0702 - val_acc: 0.9802\n",
      "Epoch 14/20\n",
      "60000/60000 [==============================] - 13s 220us/step - loss: 0.0821 - acc: 0.9761 - val_loss: 0.0626 - val_acc: 0.9817\n",
      "Epoch 15/20\n",
      "60000/60000 [==============================] - 13s 218us/step - loss: 0.0804 - acc: 0.9766 - val_loss: 0.0607 - val_acc: 0.9839\n",
      "Epoch 16/20\n",
      "60000/60000 [==============================] - 13s 222us/step - loss: 0.0756 - acc: 0.9774 - val_loss: 0.0563 - val_acc: 0.9841\n",
      "Epoch 17/20\n",
      "60000/60000 [==============================] - 13s 219us/step - loss: 0.0752 - acc: 0.9775 - val_loss: 0.0598 - val_acc: 0.9840\n",
      "Epoch 18/20\n",
      "60000/60000 [==============================] - 13s 215us/step - loss: 0.0704 - acc: 0.9789 - val_loss: 0.0578 - val_acc: 0.9832\n",
      "Epoch 19/20\n",
      "60000/60000 [==============================] - 13s 219us/step - loss: 0.0680 - acc: 0.9797 - val_loss: 0.0587 - val_acc: 0.9843\n",
      "Epoch 20/20\n",
      "60000/60000 [==============================] - 13s 218us/step - loss: 0.0652 - acc: 0.9800 - val_loss: 0.0551 - val_acc: 0.9848\n"
     ]
    }
   ],
   "source": [
    "model_relu5b = Sequential()\n",
    "model_relu5b.add(Dense(475, activation='relu', input_shape=(input_dim,), kernel_initializer=RandomNormal(mean=0.0, stddev=0.062, seed=None)))\n",
    "model_relu5b.add(BatchNormalization())\n",
    "model_relu5b.add(Dropout(0.5))\n",
    "\n",
    "model_relu5b.add(Dense(350, activation='relu', input_shape=(input_dim,), kernel_initializer=RandomNormal(mean=0.0, stddev=0.062, seed=None)))\n",
    "model_relu5b.add(BatchNormalization())\n",
    "model_relu5b.add(Dropout(0.4))\n",
    "\n",
    "model_relu5b.add(Dense(240, activation='relu', input_shape=(input_dim,), kernel_initializer=RandomNormal(mean=0.0, stddev=0.062, seed=None)))\n",
    "model_relu5b.add(BatchNormalization())\n",
    "model_relu5b.add(Dropout(0.3))\n",
    "\n",
    "model_relu5b.add(Dense(123, activation='relu', input_shape=(input_dim,), kernel_initializer=RandomNormal(mean=0.0, stddev=0.062, seed=None)))\n",
    "model_relu5b.add(BatchNormalization())\n",
    "model_relu5b.add(Dropout(0.2))\n",
    "\n",
    "model_relu5b.add(Dense(40, activation='relu', kernel_initializer=RandomNormal(mean=0.0, stddev=0.125, seed=None)) )\n",
    "model_relu5b.add(BatchNormalization())\n",
    "model_relu5b.add(Dropout(0.1))\n",
    "\n",
    "model_relu5b.add(Dense(output_dim, activation='softmax'))\n",
    "\n",
    "print(model_relu5b.summary())\n",
    "\n",
    "model_relu5b.compile(optimizer='adam', loss='categorical_crossentropy', metrics=['accuracy'])\n",
    "\n",
    "history = model_relu5b.fit(X_train, Y_train, batch_size=batch_size, epochs=nb_epoch, verbose=1, validation_data=(X_test, Y_test))"
   ]
  },
  {
   "cell_type": "code",
   "execution_count": 28,
   "metadata": {
    "colab": {
     "base_uri": "https://localhost:8080/",
     "height": 320
    },
    "colab_type": "code",
    "id": "GylcaEMMGHIm",
    "outputId": "6487311e-8bee-4d02-9af9-b9b5d485f10a"
   },
   "outputs": [
    {
     "name": "stdout",
     "output_type": "stream",
     "text": [
      "Test score: 0.05514208077131771\n",
      "Test accuracy: 0.9848\n"
     ]
    },
    {
     "data": {
      "image/png": "[encoded data removed]",
      "text/plain": [
       "<Figure size 432x288 with 1 Axes>"
      ]
     },
     "metadata": {
      "tags": []
     },
     "output_type": "display_data"
    }
   ],
   "source": [
    "score = model_relu5b.evaluate(X_test, Y_test, verbose=0) \n",
    "print('Test score:', score[0]) \n",
    "print('Test accuracy:', score[1])\n",
    "\n",
    "fig,ax = plt.subplots(1,1)\n",
    "ax.set_xlabel('epoch') ; ax.set_ylabel('Categorical Crossentropy Loss')\n",
    "\n",
    "# list of epoch numbers\n",
    "x = list(range(1,nb_epoch+1))\n",
    "\n",
    "vy = history.history['val_loss']\n",
    "ty = history.history['loss']\n",
    "plt_dynamic(x, vy, ty, ax)"
   ]
  },
  {
   "cell_type": "code",
   "execution_count": 30,
   "metadata": {
    "colab": {
     "base_uri": "https://localhost:8080/",
     "height": 163
    },
    "colab_type": "code",
    "id": "1ABYPb9KIIv1",
    "outputId": "0e0d5327-a0a4-47a8-df29-28b05c2edf23"
   },
   "outputs": [
    {
     "name": "stdout",
     "output_type": "stream",
     "text": [
      "Collecting PTable\n",
      "  Downloading https://files.pythonhosted.org/packages/ab/b3/b54301811173ca94119eb474634f120a49cd370f257d1aae5a4abaf12729/PTable-0.9.2.tar.gz\n",
      "Building wheels for collected packages: PTable\n",
      "  Building wheel for PTable (setup.py) ... \u001b[?25ldone\n",
      "\u001b[?25h  Stored in directory: /root/.cache/pip/wheels/22/cc/2e/55980bfe86393df3e9896146a01f6802978d09d7ebcba5ea56\n",
      "Successfully built PTable\n",
      "Installing collected packages: PTable\n",
      "Successfully installed PTable-0.9.2\n"
     ]
    }
   ],
   "source": [
    "pip install PTable"
   ]
  },
  {
   "cell_type": "markdown",
   "metadata": {
    "colab_type": "text",
    "id": "FARL47YlKkMf"
   },
   "source": [
    "<h3>CONCLUSION :</h3>"
   ]
  },
  {
   "cell_type": "code",
   "execution_count": 32,
   "metadata": {
    "colab": {
     "base_uri": "https://localhost:8080/",
     "height": 199
    },
    "colab_type": "code",
    "id": "uhQcp7mRIfi0",
    "outputId": "19dba2ec-c1a3-4b9f-a69a-84f53360ac82"
   },
   "outputs": [
    {
     "name": "stdout",
     "output_type": "stream",
     "text": [
      "+-------+--------------+---------------------------------------------+---------------+\n",
      "| Trail | Arcchiecture |                Hidden layers                | Test Accuracy |\n",
      "+-------+--------------+---------------------------------------------+---------------+\n",
      "|   T1  |      2       |              H1 = 375, H2 = 75              |     98.29     |\n",
      "|   T2  |      2       |             H1 = 450 , H2 = 150             |     98.39     |\n",
      "|   T1  |      3       |          H1 = 475, H2 = 275,H3 = 75         |      98.3     |\n",
      "|   T2  |      3       |          H1 = 375, H2 = 165,H3 = 55         |     98.23     |\n",
      "|   T1  |      5       | H1=475, H2 = 350, H3 = 240, H4 = 123, H5=40 |     98.54     |\n",
      "|   T2  |      5       | H1=509, H2 = 382, H3 = 255, H4 = 136, H5=52 |     98.48     |\n",
      "+-------+--------------+---------------------------------------------+---------------+\n"
     ]
    }
   ],
   "source": [
    "from prettytable import PrettyTable\n",
    "    \n",
    "x = PrettyTable()\n",
    "\n",
    "x.field_names = [\"Trail\",\"Arcchiecture\", \"Hidden layers\",\"Test Accuracy\"]\n",
    "\n",
    "x.add_row([\"T1\", 2, \"H1 = 375, H2 = 75\", 98.29])\n",
    "x.add_row([\"T2\", 2, \"H1 = 450 , H2 = 150\",98.39])\n",
    "x.add_row([\"T1\", 3, \"H1 = 475, H2 = 275,H3 = 75\", 98.3])\n",
    "x.add_row([\"T2\", 3, \"H1 = 375, H2 = 165,H3 = 55\", 98.23])\n",
    "x.add_row([\"T1\", 5, \"H1=475, H2 = 350, H3 = 240, H4 = 123, H5=40\", 98.54])\n",
    "x.add_row([\"T2\", 5, \"H1=509, H2 = 382, H3 = 255, H4 = 136, H5=52\", 98.48])\n",
    "\n",
    "print(x)"
   ]
  },
  {
   "cell_type": "markdown",
   "metadata": {
    "colab_type": "text",
    "id": "vM2Z7W6jKuL_"
   },
   "source": [
    "\n",
    "\n",
    "*   5 Layer Architecture tends to perform better with reducing dropout rates\n",
    "*   2 and 3 Layer Architecture performed nearly same with constant droput rate\n",
    "\n"
   ]
  }
 ],
 "metadata": {
  "colab": {
   "collapsed_sections": [],
   "name": "Keras_MNSIT_Assignment.ipynb",
   "provenance": [],
   "version": "0.3.2"
  },
  "kernelspec": {
   "display_name": "Python 3",
   "language": "python",
   "name": "python3"
  },
  "language_info": {
   "codemirror_mode": {
    "name": "ipython",
    "version": 3
   },
   "file_extension": ".py",
   "mimetype": "text/x-python",
   "name": "python",
   "nbconvert_exporter": "python",
   "pygments_lexer": "ipython3",
   "version": "3.7.1"
  }
 },
 "nbformat": 4,
 "nbformat_minor": 1
}
